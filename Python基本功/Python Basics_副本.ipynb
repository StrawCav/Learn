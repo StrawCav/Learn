{
 "cells": [
  {
   "cell_type": "markdown",
   "metadata": {},
   "source": [
    "## Markdown知识\n",
    "# Headline\n",
    "## Subhead1\n",
    "- Apple\n",
    "- Banana\n",
    "- Meat\n",
    "    - Pork\n",
    "    - Beef\n",
    "## Subhead 2\n",
    "1. Pandas\n",
    "    1. text\n",
    "    2. text\n",
    "2. Matplotlib\n",
    "3. Numpy"
   ]
  },
  {
   "cell_type": "markdown",
   "metadata": {},
   "source": [
    "# Links in the markdown\n",
    "- Link to Matplotlib Documentation: https://matplotlib.org/\n",
    "- Link to Seaborn Documentation: https://seaborn.pydata.org/\n",
    "- Link to Plotly Documentation: https://plotly.com/python/"
   ]
  },
  {
   "cell_type": "markdown",
   "metadata": {},
   "source": [
    "# Image output\n",
    "![newplot.png](newplot.png)"
   ]
  },
  {
   "cell_type": "markdown",
   "metadata": {},
   "source": [
    "# 布尔数值\n",
    "空集，空字符串等的布尔值都为0，即为False"
   ]
  },
  {
   "cell_type": "code",
   "execution_count": null,
   "metadata": {},
   "outputs": [
    {
     "name": "stdout",
     "output_type": "stream",
     "text": [
      "True\n",
      "11\n",
      "10\n"
     ]
    }
   ],
   "source": [
    "x = True\n",
    "print (x)\n",
    "print(x+10) # True = 1\n",
    "print(False+10) #False = 0"
   ]
  },
  {
   "cell_type": "code",
   "execution_count": 2,
   "metadata": {},
   "outputs": [
    {
     "name": "stdout",
     "output_type": "stream",
     "text": [
      "True\n",
      "False\n",
      "False\n",
      "False\n"
     ]
    }
   ],
   "source": [
    "print(bool(18)) #测试整数18的布尔值\n",
    "print(bool(0))\n",
    "print(bool('')) #空字典\n",
    "print(bool(None))"
   ]
  },
  {
   "cell_type": "markdown",
   "metadata": {},
   "source": [
    "# 变量常量以及条件循环"
   ]
  },
  {
   "cell_type": "code",
   "execution_count": null,
   "metadata": {},
   "outputs": [],
   "source": [
    "#变量与常量\n",
    "#变量语法结构： 变量名字=value  \n",
    "lucky_number = 6 #创建变量 并赋值\n",
    "my_name = 'Kevin guo' # 字符串类型的变量\n",
    "\n",
    "# The description of coding 流程图\n",
    "r = float(input('Please enter the radius of the circle: '))\n",
    "area = 3.14 * r * r\n",
    "perimeter = 2 * 3.14 * r\n",
    "\n",
    "print('The area of the circle is:', area, 'The perimeter of the circle is:', perimeter)\n",
    "\n",
    "# if函数语法结构 (注意在condtion后面不能没有冒号)\n",
    "\"\"\"\n",
    "if Condition 1:\n",
    "    Statement 1, . . . , Statement k \n",
    "elif Condition 2:\n",
    "    Statement k + 1, . . . , Statement m \n",
    "else:\n",
    "    Statement m + 1, . . . , Statement n\n",
    "\n",
    "\"\"\"\n",
    "#Example : Lexicographic comparison\n",
    "a = [ 2, 3 ]\n",
    "b = [ 2, 2 ]\n",
    "if a[0] < b[0]:\n",
    "    print('a is less than b in lexicopgraphic order.')\n",
    "elif b[0] < a[0]:\n",
    "    print('b is less than a in lexicographic order.')\n",
    "else:\n",
    "    if a[1] < b[1]: \n",
    "        print('a is less than b in lexicographic order.')\n",
    "    elif b[1] < a[1]:\n",
    "        print('b is less than a in lexicographic order')\n",
    "    else:\n",
    "        print('a and b are equal')\n",
    "\n",
    "#Example 判断奇偶\n",
    "n = int(input('Please enter a number:')) #int ensures n is an integer\n",
    "if n % 2:\n",
    "    print(n,'is an odd number')\n",
    "else:\n",
    "    print(n,'is a even number')\n",
    "\n",
    "print('the codes above can be simplified by the following')\n",
    "\n",
    "result='is an odd number' if n % 2 else 'is a even number'\n",
    "print (n, result)\n",
    "\n",
    "# if的多分支结构\n",
    "score = eval(input('please enter your final mark'))\n",
    "\n",
    "if score < 0 or score > 100:\n",
    "    print('Not a valid score')\n",
    "elif 0 <= score < 60:\n",
    "    print('E')\n",
    "elif 60 <= score <70:\n",
    "    print('D')\n",
    "else:\n",
    "    print ('First Class')\n",
    "   \n",
    "# if嵌套条件结构\n",
    "answer = input('Do you drink the alcohol?')\n",
    "if answer == 'y':\n",
    "    proof = eval(input('please enter the vol%'))\n",
    "    if proof < 20:\n",
    "        print('Not drunk driving')\n",
    "    elif proof < 80: #此处代表20<=proof<80\n",
    "        print ('Please don not drive')\n",
    "    else:\n",
    "        print('Drunk driving')\n",
    "else:\n",
    "    print('No alcohol intake')\n",
    "\n",
    "#多条件组合\n",
    "#使用and，只有两边同时为True，正确条件才能运行 Example:\n",
    "User_name=input('please enter your account number:')\n",
    "Password=input('Please enter your password')\n",
    "if User_name == 'gyy' and Password == '668800':\n",
    "    print('Successfully Login')\n",
    "else:\n",
    "    print('Incorrect username and password')\n",
    "#使用or链接，条件满足一个即可 Example:\n",
    "score = eval(input('please enter your final marks'))\n",
    "if score < 0 or score > 100:\n",
    "    print('Not a vaild mark')\n",
    "else:\n",
    "    print('Your final mark is:', score)\n",
    "\n",
    "#遍历循环for:\n",
    "#Example 1:\n",
    "for a in [ 1, 2, 3, 4, 5 ]: #此处for让括号内的数值一一罗列出来\n",
    "    print(a)\n",
    "\n",
    "\n",
    "L = [ 'C', 'a', 'l', 'c', 'u', 'l', 'u', 's' ]\n",
    "for i in [ 0, 1, 2, 3, 4, 5, 6, 7 ]:\n",
    "    print(L[i])\n",
    "\n",
    "\n",
    "for i in range(len(L)):\n",
    "    print(L[i])\n",
    "#Example 2:\n",
    "for i in 'hello': #将hello里面的字母一一提取出来\n",
    "    print(i)\n",
    "#Example 3: 用于range（）函数，产生一个[n,m)的正数序列，左边为闭区间，右边为开区间\n",
    "for i in range(1,10):\n",
    "    print(i)\n",
    "\n",
    "for a in range(1,12):\n",
    "    #可以里面加if条件语句:\n",
    "    if a % 2 == 0:\n",
    "        print(i,'is a even number')\n",
    "#Example 3: 计算range函数里面的累加\n",
    "s=0 #用于存储累加和\n",
    "for i in range(1,11):\n",
    "    s+=i #相当于s=s+i 累加符号\n",
    "print('the sum of 1-10:', s)\n",
    "\n",
    "#for else结构:\n",
    "s=0\n",
    "for i in range(1,11):\n",
    "    s+=i\n",
    "else:\n",
    "    print('the sum of 1-10:',s) #里面for取数值的时候没有中断，直接跳到之和\n",
    "\n",
    "#无限循环结构while:\n",
    "#Example 1：用while来计算累加和 (同时补充while else结构)\n",
    "s = 0\n",
    "i = 1 #(1)初始化变量\n",
    "while i <= 100: #（2）条件判断\n",
    "    s+=i  #（3）语句块\n",
    "    i+=1  # （4）改变变量 此处相当于i=i+1\n",
    "else:\n",
    "    print('the sum of 1-100:', s) #同for循环的else执行逻辑\n",
    "\n",
    "#Example 2: While Loops in Maths:\n",
    "a = 10\n",
    "\n",
    "while a > 0:\n",
    "    print(a)\n",
    "    a = a - 1\n",
    "    \n",
    "a = 10\n",
    "\n",
    "while a > 0:\n",
    "    print(a)\n",
    "    a -= 1 #相当于a=a-1\n",
    "\n",
    "#break语句：\n",
    "#Example 1:\n",
    "L = [ 'C', 'a', 'l', 'c', 'u', 'l', 'u', 's' ]\n",
    "\n",
    "i = 0\n",
    "while i < len(L):\n",
    "    print(L[i])\n",
    "    i += 1\n",
    "    if i == 3:\n",
    "        break \n",
    "\n",
    "#Example 2:\n",
    "s = 0\n",
    "i = 1 #（1）初始化变量\n",
    "while i < 11: #（2）条件判断\n",
    "    #（3）语句块\n",
    "    s+=i\n",
    "    if s > 20:\n",
    "        print('累加和大于20的当前数是:',i)\n",
    "        break\n",
    "    i+=1 #(4)改变变量\n",
    "\n",
    "#  Interesting Example: 用于执行登录账号的命令：\n",
    "i = 0\n",
    "while i < 3:\n",
    "    user_name = input('Please enter account name:')\n",
    "    psw = input('Please enter password:')\n",
    "    if user_name == 'gyy' and psw == '668800':\n",
    "        print('Just a moment, logging')\n",
    "        break\n",
    "    else:\n",
    "        if i < 2:\n",
    "            print('Incorrect username and password, you have ',2-i,'times')\n",
    "        i+=1\n",
    "else:\n",
    "    print('Wrong entering in three times')\n",
    "\n",
    "# continue语句:\n",
    "# Example 在while语句中\n",
    "s = 0\n",
    "i = 1\n",
    "while i <= 100:\n",
    "    if i % 2 == 1:\n",
    "        i+=1\n",
    "        continue #不再执行奇数相加的命令\n",
    "    s += i\n",
    "    i += 1\n",
    "print('the sum of even numbers in 1-100 is:',s)\n",
    "\n",
    "#Example 在for语句中\n",
    "s = 0\n",
    "for i in range(1,101):\n",
    "    if i % 2 == 1:\n",
    "        continue\n",
    "    s+=i\n",
    "print('the sum of even numbers in 1-100 is;',s)"
   ]
  },
  {
   "cell_type": "code",
   "execution_count": null,
   "metadata": {},
   "outputs": [],
   "source": [
    "# 鸡兔同笼问题\n",
    "heads = 35\n",
    "legs = 94\n",
    "\n",
    "for i in range(heads + 1):\n",
    "    chicken = i\n",
    "    rabbit = heads - chicken\n",
    "    if 2 * chicken + 4 * rabbit == legs:\n",
    "        print(f'The number of chicken is:{chicken}, the number of rabbit is:{rabbit}') "
   ]
  },
  {
   "cell_type": "markdown",
   "metadata": {},
   "source": [
    "# Tuple"
   ]
  },
  {
   "cell_type": "code",
   "execution_count": null,
   "metadata": {},
   "outputs": [
    {
     "name": "stdout",
     "output_type": "stream",
     "text": [
      "(10, 20, 30, 40)\n",
      "10 exists: True\n",
      "10 not exists: False\n",
      "Maximum 40\n",
      "Minimum: 10\n",
      "The number of elements: 4\n"
     ]
    }
   ],
   "source": [
    "#小括号创建元组\n",
    "t=('hello',[10,20,30],'python','world')\n",
    "t\n",
    "\n",
    "# Using \"tuple\"\n",
    "t = tuple([10,20,30,40])\n",
    "print(t)\n",
    "print('10 exists:',(10 in t))\n",
    "print('10 not exists:',(10 not in t)) #逗号后的是判断条件\n",
    "print('Maximum',max(t))\n",
    "print('Minimum:',min(t))\n",
    "print('The number of elements:',len(t))"
   ]
  },
  {
   "cell_type": "code",
   "execution_count": 3,
   "metadata": {},
   "outputs": [
    {
     "name": "stdout",
     "output_type": "stream",
     "text": [
      "(10,) <class 'tuple'>\n"
     ]
    }
   ],
   "source": [
    "#元组只有一个元素，逗号不能省略\n",
    "x = (10,)\n",
    "print(x,type(x))\n"
   ]
  },
  {
   "cell_type": "code",
   "execution_count": 12,
   "metadata": {},
   "outputs": [
    {
     "data": {
      "text/plain": [
       "'morning'"
      ]
     },
     "execution_count": 12,
     "metadata": {},
     "output_type": "execute_result"
    }
   ],
   "source": [
    "# tuple slicing\n",
    "t1 = ('python','hello','world')\n",
    "t2 = t1[0:3:2]\n",
    "t3 = t1[0:2] # Elements from first and second\n",
    "\n",
    "T = (1,2,('good','morning'),(3,4))\n",
    "T[1]\n",
    "T[2][1]"
   ]
  },
  {
   "cell_type": "code",
   "execution_count": null,
   "metadata": {},
   "outputs": [
    {
     "name": "stdout",
     "output_type": "stream",
     "text": [
      "python\n",
      "hello\n",
      "world\n",
      "0 python\n",
      "1 hello\n",
      "2 world\n",
      "0 python\n",
      "1 hello\n",
      "2 world\n"
     ]
    }
   ],
   "source": [
    "# for function \n",
    "for i in t1:\n",
    "    print(i)\n",
    "\n",
    "# for+range+len\n",
    "for a in range(len(t1)):\n",
    "    print(a,t1[a])\n",
    "\n",
    "# Method2 和上面一样 用enumerate函数  \n",
    "for index,item in enumerate(t1):\n",
    "    print(index,item)"
   ]
  },
  {
   "cell_type": "markdown",
   "metadata": {},
   "source": [
    "# Lists"
   ]
  },
  {
   "cell_type": "code",
   "execution_count": 1,
   "metadata": {},
   "outputs": [],
   "source": [
    "# Input of Lists is similar to Tuples\n",
    "L = [\"Black Rock\",100,5.6 ]\n",
    "L[0]\n",
    "\"Black Rock\".split() #Split the two words into two elements\n",
    "A = L[:] #Copy of the List"
   ]
  },
  {
   "cell_type": "code",
   "execution_count": 4,
   "metadata": {},
   "outputs": [
    {
     "data": {
      "text/plain": [
       "['student', 20, 'teacher']"
      ]
     },
     "execution_count": 4,
     "metadata": {},
     "output_type": "execute_result"
    }
   ],
   "source": [
    "list_ex = ['student', 18, 'teacher']\n",
    "list_ex[1] = 20 #修改列表中的元素\n",
    "list_ex"
   ]
  },
  {
   "cell_type": "code",
   "execution_count": 3,
   "metadata": {},
   "outputs": [
    {
     "name": "stdout",
     "output_type": "stream",
     "text": [
      "0 is Apple\n",
      "1 is Banana\n",
      "2 is Orange\n",
      "3 is Grapes\n",
      "4 is Blueberry\n"
     ]
    }
   ],
   "source": [
    "list = ['Apple', 'Banana', 'Orange', 'Grapes','Blueberry']\n",
    "for i in range(len(list)):\n",
    "    print(f\"{i} is {list[i]}\")"
   ]
  },
  {
   "cell_type": "code",
   "execution_count": null,
   "metadata": {},
   "outputs": [
    {
     "data": {
      "text/plain": [
       "['a', 'b', 'c', 'd']"
      ]
     },
     "execution_count": 5,
     "metadata": {},
     "output_type": "execute_result"
    }
   ],
   "source": [
    "s = 'a, b, c, d'\n",
    "s_list = s.split(', ') #Split the string into a list with ', ' as the separator\n",
    "s_list"
   ]
  },
  {
   "cell_type": "code",
   "execution_count": 11,
   "metadata": {},
   "outputs": [
    {
     "data": {
      "text/plain": [
       "[1, 2, 3, 4, 5]"
      ]
     },
     "execution_count": 11,
     "metadata": {},
     "output_type": "execute_result"
    }
   ],
   "source": [
    "s_num = '1, 2, 3, 4, 5'\n",
    "number = s_num.split(',')\n",
    "for i in range(len(number)):\n",
    "    number[i] = int(number[i])\n",
    "number"
   ]
  },
  {
   "cell_type": "markdown",
   "metadata": {},
   "source": [
    "# Dictionary"
   ]
  },
  {
   "cell_type": "code",
   "execution_count": null,
   "metadata": {},
   "outputs": [],
   "source": [
    "#字典Dictornary\n",
    "#List \n",
    "my_companies = ['Apple', 'JPMorgan', 'BlackRock', 'Blackstone'] #Each element in the list represent differnt index, from index0(Apple) to index3(Blackstone)\n",
    "print(my_companies[0]) \n",
    "\n",
    "\n",
    "#创建字典\n",
    "d = {10:'cat',20:'dog',30:'pet', 40:'zoo'}\n",
    "#参数创建字典\n",
    "d = dict(cat=10,dog=20)\n",
    "print(d)\n",
    "\n",
    "#字典属于序列，可以用max，min，len\n",
    "print('max:',max(d))\n",
    "print('min:',min(d))\n",
    "print('number of elements:',len(d))\n",
    "\n",
    "#字典的删除\n",
    "del d\n",
    "\n",
    "#字典元素的访问和遍历:\n",
    "d = {'Hello':10, 'world':20, 'You':30}\n",
    "print(d['Hello'])\n",
    "print(d.get('world'))\n",
    "print(d.get('me','Not exist')) #用d.get（key）相比于前者不会出现报错，在key后面可以加一个自己指定的默认值"
   ]
  },
  {
   "cell_type": "markdown",
   "metadata": {},
   "source": [
    "# Arrary 数组"
   ]
  },
  {
   "cell_type": "code",
   "execution_count": 13,
   "metadata": {},
   "outputs": [
    {
     "name": "stdout",
     "output_type": "stream",
     "text": [
      "Collecting numpy\n",
      "  Downloading numpy-2.3.4-cp313-cp313-macosx_14_0_arm64.whl.metadata (62 kB)\n",
      "Downloading numpy-2.3.4-cp313-cp313-macosx_14_0_arm64.whl (5.1 MB)\n",
      "\u001b[2K   \u001b[90m━━━━━━━━━━━━━━━━━━━━━━━━━━━━━━━━━━━━━━━━\u001b[0m \u001b[32m5.1/5.1 MB\u001b[0m \u001b[31m5.9 MB/s\u001b[0m eta \u001b[36m0:00:00\u001b[0ma \u001b[36m0:00:01\u001b[0m\n",
      "\u001b[?25hInstalling collected packages: numpy\n",
      "Successfully installed numpy-2.3.4\n"
     ]
    }
   ],
   "source": [
    "!pip install numpy\n",
    "import numpy as np"
   ]
  }
 ],
 "metadata": {
  "kernelspec": {
   "display_name": "base",
   "language": "python",
   "name": "python3"
  },
  "language_info": {
   "codemirror_mode": {
    "name": "ipython",
    "version": 3
   },
   "file_extension": ".py",
   "mimetype": "text/x-python",
   "name": "python",
   "nbconvert_exporter": "python",
   "pygments_lexer": "ipython3",
   "version": "3.13.5"
  }
 },
 "nbformat": 4,
 "nbformat_minor": 2
}
