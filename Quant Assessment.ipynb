{
 "cells": [
  {
   "cell_type": "markdown",
   "metadata": {
    "deletable": false,
    "editable": false,
    "nbgrader": {
     "cell_type": "markdown",
     "checksum": "556b5a7d69d531596f67b7b563855836",
     "grade": false,
     "grade_id": "cell-14a928e807244ec6",
     "locked": true,
     "schema_version": 3,
     "solution": false,
     "task": false
    }
   },
   "source": [
    "<img src=\"https://algo-assets.amplifyme.com/quant/millenium/Millenium_Quant_C1.png\" width=\"100%\"/>"
   ]
  },
  {
   "cell_type": "code",
   "execution_count": null,
   "metadata": {},
   "outputs": [],
   "source": []
  },
  {
   "cell_type": "markdown",
   "metadata": {
    "deletable": false,
    "editable": false,
    "nbgrader": {
     "cell_type": "markdown",
     "checksum": "f5c4db74e2600d576f856d6226222abb",
     "grade": false,
     "grade_id": "cell-9d02e3a9d3423fef",
     "locked": true,
     "schema_version": 3,
     "solution": false,
     "task": false
    }
   },
   "source": [
    "### **Quant Simulation Challenge 1: Price Making**\n",
    "\n",
    "In this challenge, your task is to build a simple, automated market maker. Using **object-oriented programming**, you will create a class that can provide a two-sided price quote (a bid and an offer) for any given asset.\n",
    "\n",
    "Your model will need to calculate quotes that are **2% away** from the current market price.\n",
    "\n",
    "<div style=\"background-color: #E7F3FE; border-left: 6px solid #2196F3; padding: 15px; margin-bottom: 15px; border-radius: 5px;\">\n",
    "<h4>What is Market Making?</h4>\n",
    "<p>When a large client (like a hedge fund) wants to trade, they ask a Market Maker for a price. </p>\n",
    "<ul>\n",
    "    <li>The client tells you <i>what</i> they want to trade (e.g., Apple shares) and <i>how many</i>.</li>\n",
    "    <li>They don't tell you if they want to <b>buy</b> or <b>sell</b>.</li>\n",
    "    <li>Because of this, you must provide a price for both scenarios:</li>\n",
    "    <ul>\n",
    "        <li><b>Bid Price:</b> The price the client can <b>sell</b> at.</li>\n",
    "        <li><b>Offer Price:</b> The price the client can <b>buy</b> at.</li>\n",
    "    </ul>\n",
    "</ul>\n",
    "</div>\n",
    "\n",
    "#### **Calculation Rules**\n",
    "\n",
    "For this challenge, your bid and offer prices should be calculated using a simple 2% spread around the **reference price** (the current market price).\n",
    "\n",
    "* **Bid Price** = Reference Price $\\times$ (1 - 0.02)\n",
    "* **Offer Price** = Reference Price $\\times$ (1 + 0.02)\n",
    "\n",
    "<div style=\"background-color: #F8F9F9; border: 1px solid #DEE2E6; padding: 15px; margin-bottom: 15px; border-radius: 5px;\">\n",
    "<h4>For Example:</h4>\n",
    "<p>\n",
    "If a client requests a quote for Apple and its current reference price is <b>\\$100</b>, your market maker would provide the following quote:\n",
    "</p>\n",
    "<p style=\"text-align:center; font-size:1.2em; font-family:monospace;\">\n",
    "<b>Bid: \\$98.00 — \\$102.00 :Offer</b>\n",
    "</p>\n",
    "</div>\n",
    "\n",
    "Now, let's import the packages you will need for this notebook."
   ]
  },
  {
   "cell_type": "code",
   "execution_count": 3,
   "metadata": {},
   "outputs": [
    {
     "name": "stdout",
     "output_type": "stream",
     "text": [
      "\u001b[31mERROR: Could not find a version that satisfies the requirement AmplifyQuantTrading (from versions: none)\u001b[0m\u001b[31m\n",
      "\u001b[0m\u001b[31mERROR: No matching distribution found for AmplifyQuantTrading\u001b[0m\u001b[31m\n",
      "\u001b[0m"
     ]
    }
   ],
   "source": [
    "!pip install AmplifyQuantTrading"
   ]
  },
  {
   "cell_type": "code",
   "execution_count": 4,
   "metadata": {
    "deletable": false,
    "editable": false,
    "nbgrader": {
     "cell_type": "code",
     "checksum": "9e5fa09d80d416a8f0b3fb67a6ec6dad",
     "grade": false,
     "grade_id": "cell-4a7a0335193cf40f",
     "locked": true,
     "schema_version": 3,
     "solution": false,
     "task": false
    }
   },
   "outputs": [
    {
     "ename": "ModuleNotFoundError",
     "evalue": "No module named 'AmplifyQuantTrading'",
     "output_type": "error",
     "traceback": [
      "\u001b[31m---------------------------------------------------------------------------\u001b[39m",
      "\u001b[31mModuleNotFoundError\u001b[39m                       Traceback (most recent call last)",
      "\u001b[36mCell\u001b[39m\u001b[36m \u001b[39m\u001b[32mIn[4]\u001b[39m\u001b[32m, line 3\u001b[39m\n\u001b[32m      1\u001b[39m \u001b[38;5;66;03m# The code in this cell is used to import the packages to be used throughout this notebook.\u001b[39;00m\n\u001b[32m      2\u001b[39m \u001b[38;5;66;03m# The following are private packages available only during this simulation:\u001b[39;00m\n\u001b[32m----> \u001b[39m\u001b[32m3\u001b[39m \u001b[38;5;28;01mfrom\u001b[39;00m\u001b[38;5;250m \u001b[39m\u001b[34;01mAmplifyQuantTrading\u001b[39;00m\u001b[38;5;250m \u001b[39m\u001b[38;5;28;01mimport\u001b[39;00m Data\n\u001b[32m      4\u001b[39m \u001b[38;5;28;01mfrom\u001b[39;00m\u001b[38;5;250m \u001b[39m\u001b[34;01mAmplifyQuantTrading\u001b[39;00m\u001b[38;5;250m \u001b[39m\u001b[38;5;28;01mimport\u001b[39;00m Exchange\n\u001b[32m      5\u001b[39m \u001b[38;5;28;01mfrom\u001b[39;00m\u001b[38;5;250m \u001b[39m\u001b[34;01mAmplifyQuantTrading\u001b[39;00m\u001b[38;5;250m \u001b[39m\u001b[38;5;28;01mimport\u001b[39;00m MarketMaker\n",
      "\u001b[31mModuleNotFoundError\u001b[39m: No module named 'AmplifyQuantTrading'"
     ]
    }
   ],
   "source": [
    "# The code in this cell is used to import the packages to be used throughout this notebook.\n",
    "# The following are private packages available only during this simulation:\n",
    "from AmplifyQuantTrading import Data\n",
    "from AmplifyQuantTrading import Exchange\n",
    "from AmplifyQuantTrading import MarketMaker\n",
    "from AmplifyQuantTrading import HedgeFund as hf\n",
    "# The following are publicly available packages:\n",
    "from matplotlib import pyplot as plt\n",
    "from pandas import *"
   ]
  },
  {
   "cell_type": "code",
   "execution_count": 86,
   "metadata": {
    "deletable": false,
    "editable": false,
    "nbgrader": {
     "cell_type": "code",
     "checksum": "be71459b59175aea650745949d92f2c5",
     "grade": true,
     "grade_id": "cell-95700bc815297acc",
     "locked": true,
     "points": 0,
     "schema_version": 3,
     "solution": false,
     "task": false
    }
   },
   "outputs": [],
   "source": [
    "# HIDDEN PARAMS BOX"
   ]
  },
  {
   "cell_type": "markdown",
   "metadata": {
    "deletable": false,
    "editable": false,
    "nbgrader": {
     "cell_type": "markdown",
     "checksum": "329fd71f0dcb41d7c8558165b38825de",
     "grade": false,
     "grade_id": "986049254f29a043",
     "locked": true,
     "schema_version": 3,
     "solution": false,
     "task": false
    }
   },
   "source": [
    "<div style=\"background-color: #E7F3FE; border-left: 6px solid #2196F3; padding: 15px; margin-bottom: 15px; border-radius: 5px;\">\n",
    "<h4>Setting Up Our Data</h4>\n",
    "<p>The code below assigns our data to two main variables that we'll use throughout the project:</p>\n",
    "<ul>\n",
    "    <li><code>prices</code>: A series of live market prices for our assets.</li>\n",
    "    <li><code>price_requests</code>: A series of trade requests from our clients.</li>\n",
    "</ul>\n",
    "</div>"
   ]
  },
  {
   "cell_type": "code",
   "execution_count": 87,
   "metadata": {
    "deletable": false,
    "editable": false,
    "nbgrader": {
     "cell_type": "code",
     "checksum": "9a588a16dc20f209963f264d1fca73c4",
     "grade": false,
     "grade_id": "cell-9baf2c67e380131a",
     "locked": true,
     "schema_version": 3,
     "solution": false,
     "task": false
    }
   },
   "outputs": [],
   "source": [
    "prices = Data.get_price_series(\"PricestoFeedserver\")\n",
    "price_requests = Data.get_price_requests(\"PriceRequeststoFeedserver\")"
   ]
  },
  {
   "cell_type": "markdown",
   "metadata": {
    "deletable": false,
    "editable": false,
    "nbgrader": {
     "cell_type": "markdown",
     "checksum": "d6db7e4dc86b18276588d870072e9110",
     "grade": false,
     "grade_id": "cell-6d01bcc8e93638af",
     "locked": true,
     "schema_version": 3,
     "solution": false,
     "task": false
    }
   },
   "source": [
    "### **Task A: Create a Sample Dataset**\n",
    "\n",
    "To make it easier to build and test your code, your first task is to create a smaller sample of data. You'll select the first **ten** trade requests from the main `price_requests` list.\n",
    "\n",
    "<div style=\"background-color: #E7F3FE; border-left: 6px solid #2196F3; padding: 15px; margin-bottom: 15px; border-radius: 5px;\">\n",
    "<h4>Your Task</h4>\n",
    "<p>\n",
    "Iterate through the <code>price_requests</code> data and append the first <b>10 requests</b> to a new list called <code>test_requests</code>.\n",
    "</p>\n",
    "</div>\n",
    "\n",
    "<div style=\"background-color: #F8F9F9; border: 1px solid #DEE2E6; padding: 10px; margin-top: 15px; border-radius: 5px; width:fit-content;\">\n",
    "💡 <b>Check your work:</b> The final <code>test_requests</code> list should contain exactly 10 items.\n",
    "</div>"
   ]
  },
  {
   "cell_type": "code",
   "execution_count": 88,
   "metadata": {
    "deletable": false,
    "editable": false,
    "nbgrader": {
     "cell_type": "code",
     "checksum": "7191977fbabd42392987c14f75919712",
     "grade": false,
     "grade_id": "cell-9bdafaf242375e9d",
     "locked": true,
     "schema_version": 3,
     "solution": false,
     "task": false
    }
   },
   "outputs": [],
   "source": [
    "test_requests = []"
   ]
  },
  {
   "cell_type": "code",
   "execution_count": 89,
   "metadata": {
    "deletable": false,
    "nbgrader": {
     "cell_type": "code",
     "checksum": "2b2920e31730ff07d7fac3cf55a64bcf",
     "grade": false,
     "grade_id": "cell-99b8ed7168ecabab",
     "locked": false,
     "schema_version": 3,
     "solution": true,
     "task": false
    }
   },
   "outputs": [],
   "source": [
    "for index in range(0, 10): # Select the first ten prices in the data.\n",
    "    # Insert your answer code here\n",
    "    test_requests.append(price_requests[index])"
   ]
  },
  {
   "cell_type": "markdown",
   "metadata": {
    "deletable": false,
    "editable": false,
    "nbgrader": {
     "cell_type": "markdown",
     "checksum": "00d5b58840c9084c0171e92cd289119f",
     "grade": false,
     "grade_id": "cell-3dba779b2f899fff",
     "locked": true,
     "schema_version": 3,
     "solution": false,
     "task": false
    }
   },
   "source": [
    "<div style=\"background-color: #D4EDDA; border-left: 6px solid #28A745; padding: 15px; margin-bottom: 15px; border-radius: 5px;\">\n",
    "    <h4>Output Check</h4>\n",
    "    <p>Run the cell below to display your final <code>test_requests</code> list.</p>\n",
    "    <p>You should see a list containing ten requests you selected. Each item in the list follows the format:</p>\n",
    "    <p><code>[ ticker, date, volume ]</code></p>\n",
    "</div>"
   ]
  },
  {
   "cell_type": "code",
   "execution_count": 12,
   "metadata": {
    "deletable": false,
    "editable": false,
    "nbgrader": {
     "cell_type": "code",
     "checksum": "52021f3cd162f3afc0aff8087c73930d",
     "grade": false,
     "grade_id": "cell-adc7f93cc7ea51cb",
     "locked": true,
     "schema_version": 3,
     "solution": false,
     "task": false
    }
   },
   "outputs": [
    {
     "name": "stdout",
     "output_type": "stream",
     "text": [
      "[['FB', 0, 3010], ['AAPL', 10000, 6929], ['FB', 30000, 7015], ['FB', 70000, 4910], ['AAPL', 105000, 5783], ['AAPL', 110000, 3280], ['FB', 115000, 2465], ['AAPL', 120000, 656], ['FB', 130000, 1948], ['FB', 150000, 1386]]\n"
     ]
    }
   ],
   "source": [
    "print(test_requests)"
   ]
  },
  {
   "cell_type": "markdown",
   "metadata": {
    "deletable": false,
    "editable": false,
    "nbgrader": {
     "cell_type": "markdown",
     "checksum": "852f8c9f8ef6e9a1a4cb3365119a228d",
     "grade": false,
     "grade_id": "cell-25a3b2ee03baf3fb",
     "locked": true,
     "schema_version": 3,
     "solution": false,
     "task": false
    }
   },
   "source": [
    "<div style=\"background-color: #f8f9fa; border: 1px solid #dee2e6; padding: 15px; margin-bottom: 15px; border-radius: 5px;\">\n",
    "    <h4>For Grading Purposes Only</h4>\n",
    "    <p>You don't need to change anything in the cell below. It's used to check your work automatically. Please run it without making any changes.</p>\n",
    "</div>"
   ]
  },
  {
   "cell_type": "code",
   "execution_count": null,
   "metadata": {
    "deletable": false,
    "editable": false,
    "nbgrader": {
     "cell_type": "code",
     "checksum": "6b7a58d060182f70a2280ca49362fe61",
     "grade": true,
     "grade_id": "cell-e9a97c2f5d8e24e9",
     "locked": true,
     "points": 1,
     "schema_version": 3,
     "solution": false,
     "task": false
    }
   },
   "outputs": [],
   "source": [
    "# GRADING CELL"
   ]
  },
  {
   "cell_type": "markdown",
   "metadata": {
    "deletable": false,
    "editable": false,
    "nbgrader": {
     "cell_type": "markdown",
     "checksum": "bd8592c035e43120662b421723f9a638",
     "grade": false,
     "grade_id": "cell-1d4449695087e718",
     "locked": true,
     "schema_version": 3,
     "solution": false,
     "task": false
    }
   },
   "source": [
    "### **Task B: Find the Reference Price for Each Request**\n",
    "\n",
    "Now that you have your `test_requests`, you need to find the correct market price for each one. This is the **reference price** you'll use later to calculate your bid and offer quotes.\n",
    "\n",
    "<div style=\"background-color: #E7F3FE; border-left: 6px solid #2196F3; padding: 15px; margin-bottom: 15px; border-radius: 5px;\">\n",
    "<h4>Your Task</h4>\n",
    "<ol>\n",
    "    <li>Create an empty list called <code>request_with_prices</code>.</li>\n",
    "    <li>Loop through each request in your <code>test_requests</code> list.</li>\n",
    "    <li>For each request, find the matching price from the <code>prices</code> data by matching the <b>ticker</b> and <b>date</b>.</li>\n",
    "    <li>Append the original request and its reference price to your <code>request_with_prices</code> list.</li>\n",
    "</ol>\n",
    "</div>\n",
    "\n",
    "<div style=\"background-color: #F8F9F9; border: 1px solid #DEE2E6; padding: 15px; margin-bottom: 15px; border-radius: 5px;\">\n",
    "    <h4>Required Output Format</h4>\n",
    "    <p>Your final list must be a list of tuples. Each tuple should contain the original request (which is a list) and its corresponding reference price (a number).</p>\n",
    "    <p><b>Structure:</b> <code>[ ( [ticker, date, volume], reference_price ), ... ]</code></p>\n",
    "</div>"
   ]
  },
  {
   "cell_type": "code",
   "execution_count": 90,
   "metadata": {
    "deletable": false,
    "editable": false,
    "nbgrader": {
     "cell_type": "code",
     "checksum": "923cf750c731323ebf74c6dadff34b56",
     "grade": false,
     "grade_id": "cell-b56b7fa1431f6b80",
     "locked": true,
     "schema_version": 3,
     "solution": false,
     "task": false
    }
   },
   "outputs": [],
   "source": [
    "request_with_prices = []"
   ]
  },
  {
   "cell_type": "code",
   "execution_count": 91,
   "metadata": {
    "deletable": false,
    "nbgrader": {
     "cell_type": "code",
     "checksum": "715bd3867218867466e1760ffc6439b8",
     "grade": false,
     "grade_id": "cell-0477647161607c09",
     "locked": false,
     "schema_version": 3,
     "solution": true,
     "task": false
    }
   },
   "outputs": [],
   "source": [
    "for price in prices:  # Iterate through all the prices to match them against the price requests.\n",
    "    for request in test_requests:  # Iterate through the requests from the Hedge Funds.\n",
    "        # Insert your answer code here\n",
    "        if request[0] == price[0] and request[1] == price[1]: \n",
    "            reference_price = price[2]\n",
    "            request_with_prices.append((request, reference_price))"
   ]
  },
  {
   "cell_type": "markdown",
   "metadata": {
    "deletable": false,
    "editable": false,
    "nbgrader": {
     "cell_type": "markdown",
     "checksum": "2ad925d44c0880f6da9b69172b1de295",
     "grade": false,
     "grade_id": "cell-6a12060e42fe9365",
     "locked": true,
     "schema_version": 3,
     "solution": false,
     "task": false
    }
   },
   "source": [
    "<div style=\"background-color: #D4EDDA; border-left: 6px solid #28A745; padding: 15px; margin-bottom: 15px; border-radius: 5px;\">\n",
    "    <h4>Output Check</h4>\n",
    "    <p>Run the cell below to check your <code>request_with_prices</code> list.</p>\n",
    "    <p>The output confirms each trade request has been paired with its reference price, following the required format:</p>\n",
    "    <p><b>Structure:</b> <code>[ ( [ticker, date, volume], reference_price ), ... ]</code></p>\n",
    "</div>"
   ]
  },
  {
   "cell_type": "code",
   "execution_count": 31,
   "metadata": {
    "deletable": false,
    "editable": false,
    "nbgrader": {
     "cell_type": "code",
     "checksum": "8c17584499a821a613bcd67656ca28ec",
     "grade": false,
     "grade_id": "cell-3f2db2da4086b547",
     "locked": true,
     "schema_version": 3,
     "solution": false,
     "task": false
    },
    "scrolled": true
   },
   "outputs": [
    {
     "name": "stdout",
     "output_type": "stream",
     "text": [
      "[(['FB', 0, 3010], 194.44), (['AAPL', 10000, 6929], 74.63), (['FB', 30000, 7015], 195.75), (['FB', 70000, 4910], 193.3), (['AAPL', 105000, 5783], 73.13), (['AAPL', 110000, 3280], 73.83), (['FB', 115000, 2465], 185.76), (['AAPL', 120000, 656], 76.56), (['FB', 130000, 1948], 191.32), (['FB', 150000, 1386], 195.82)]\n"
     ]
    }
   ],
   "source": [
    "print(request_with_prices)"
   ]
  },
  {
   "cell_type": "markdown",
   "metadata": {
    "deletable": false,
    "editable": false,
    "nbgrader": {
     "cell_type": "markdown",
     "checksum": "9e62147ec092c6c8634aea568c2ff73c",
     "grade": false,
     "grade_id": "cell-2d340453b292d4ab",
     "locked": true,
     "schema_version": 3,
     "solution": false,
     "task": false
    }
   },
   "source": [
    "\n",
    "<div style=\"background-color: #f8f9fa; border: 1px solid #dee2e6; padding: 15px; margin-bottom: 15px; border-radius: 5px;\">\n",
    "    <h4>For Grading Purposes Only</h4>\n",
    "    <p>You don't need to change anything in the cell below. It's used to check your work automatically. Please run it without making any changes.</p>\n",
    "</div>"
   ]
  },
  {
   "cell_type": "code",
   "execution_count": null,
   "metadata": {
    "deletable": false,
    "editable": false,
    "nbgrader": {
     "cell_type": "code",
     "checksum": "ec78ea6f6773d68628d2f298b5a461fe",
     "grade": true,
     "grade_id": "cell-f12ce7c5321e77ae",
     "locked": true,
     "points": 1,
     "schema_version": 3,
     "solution": false,
     "task": false
    }
   },
   "outputs": [],
   "source": [
    "# GRADING CELL"
   ]
  },
  {
   "cell_type": "markdown",
   "metadata": {
    "deletable": false,
    "editable": false,
    "nbgrader": {
     "cell_type": "markdown",
     "checksum": "3e7bc161eb4337ca05c33c749ed05e4c",
     "grade": false,
     "grade_id": "cell-9d946755bc1a9840",
     "locked": true,
     "schema_version": 3,
     "solution": false,
     "task": false
    }
   },
   "source": [
    "### **Task C: Build a `QuotedTrade` Class**\n",
    "\n",
    "It's time to turn your data into a structured quote. Instead of using lists and tuples, you will now use **Object-Oriented Programming (OOP)** to create a `QuotedTrade` object for each request.\n",
    "\n",
    "Using a class is a clean and professional way to package all the information related to a single trade. This makes your code easier to read, manage, and eventually send to clients.\n",
    "\n",
    "<div style=\"background-color: #F6DDDB; border-left: 6px solid #CE443B; padding: 15px; margin-bottom: 15px; border-radius: 5px;\">\n",
    "<h4>Class Blueprint: `QuotedTrade`</h4>\n",
    "<p>Your class will act as a blueprint for every quote you create. Each object made from this class must contain the following attributes:</p>\n",
    "<ul>\n",
    "    <li><code>ticker</code>: The asset's name (String)</li>\n",
    "    <li><code>trade_volume</code>: The number of shares requested (Integer)</li>\n",
    "    <li><code>ref_price</code>: The market price at the time of the request (Float)</li>\n",
    "    <li><code>bid_price</code>: Your calculated price for the client to sell at (Float)</li>\n",
    "    <li><code>offer_price</code>: Your calculated price for the client to buy at (Float)</li>\n",
    "    <li><code>date</code>: The timestamp of the request (Integer)</li>\n",
    "</ul>\n",
    "</div>\n",
    "\n",
    "<div style=\"background-color: #E7F3FE; border-left: 6px solid #2196F3; padding: 15px; margin-bottom: 15px; border-radius: 5px;\">\n",
    "<h4>Your Task</h4>\n",
    "<ol>\n",
    "    <li><strong>Use the defined <code>QuotedTrade</code> class.</strong></li>\n",
    "    <li>Inside the loop, create <code>QuotedTrade</code> objects with the correct Bid and Offer Price.</li>"
   ]
  },
  {
   "cell_type": "code",
   "execution_count": 92,
   "metadata": {
    "deletable": false,
    "editable": false,
    "nbgrader": {
     "cell_type": "code",
     "checksum": "6920e8e4bc3595ebe343fe659cc9cced",
     "grade": false,
     "grade_id": "cell-72c52dc77d98b645",
     "locked": true,
     "schema_version": 3,
     "solution": false,
     "task": false
    }
   },
   "outputs": [],
   "source": [
    "class QuotedTrade:\n",
    "    def __init__(self, ticker, trade_volume, ref_price, bid_price, offer_price,\n",
    "                 date):\n",
    "        self.ticker = ticker\n",
    "        self.trade_volume = trade_volume\n",
    "        self.ref_price = ref_price\n",
    "        self.bid_price = bid_price\n",
    "        self.offer_price = offer_price\n",
    "        self.date = date\n",
    "\n",
    "    def __str__(self):\n",
    "        return f'Trade Request for {self.ticker}, {self.trade_volume} shares @ {self.ref_price} on {self.date}. Bid Price: {self.bid_price} and Offer Price: {self.offer_price}'\n",
    "\n",
    "    def __repr__(self):\n",
    "        return f'QuotedTrade(ticker={self.ticker}, trade_volume={self.trade_volume}, ref_price={self.ref_price}, bid_price={self.bid_price}, offer_price={self.offer_price}, date={self.date})'"
   ]
  },
  {
   "cell_type": "markdown",
   "metadata": {
    "deletable": false,
    "editable": false,
    "nbgrader": {
     "cell_type": "markdown",
     "checksum": "ca9d3c83a5dc20884bcf1410ba44aea7",
     "grade": false,
     "grade_id": "cell-b8279455f9c02fa9",
     "locked": true,
     "schema_version": 3,
     "solution": false,
     "task": false
    }
   },
   "source": [
    "<div style=\"background-color: #FFF3CD; border-left: 6px solid #FFC107; padding: 15px; margin-bottom: 15px; border-radius: 5px;\">\n",
    "    <h4>Key Calculation: Bid & Offer Prices</h4>\n",
    "    <p>You must calculate the <code>bid_price</code> and <code>offer_price</code>. These should be set based on a 2% spread around the <code>ref_price</code>.</p>\n",
    "</div>"
   ]
  },
  {
   "cell_type": "code",
   "execution_count": 93,
   "metadata": {
    "deletable": false,
    "editable": false,
    "nbgrader": {
     "cell_type": "code",
     "checksum": "890fd3af76a0967109edaeffe147344f",
     "grade": false,
     "grade_id": "cell-e65e21327f1e8616",
     "locked": true,
     "schema_version": 3,
     "solution": false,
     "task": false
    }
   },
   "outputs": [],
   "source": [
    "quoted_trades = []"
   ]
  },
  {
   "cell_type": "code",
   "execution_count": 94,
   "metadata": {
    "deletable": false,
    "nbgrader": {
     "cell_type": "code",
     "checksum": "5b6d8404478d6c51b006585a39f88442",
     "grade": false,
     "grade_id": "cell-d5d31114b6fa1780",
     "locked": false,
     "schema_version": 3,
     "solution": true,
     "task": false
    }
   },
   "outputs": [],
   "source": [
    "# Replace the ? in this task with your answer.\n",
    "\n",
    "for matched in request_with_prices:\n",
    "    ref_price = matched[1]\n",
    "    bid_price = ref_price * (1 - 0.02) # Create the bid spread\n",
    "    \n",
    "    offer_price = ref_price * (1 + 0.02) # Create the offer spread\n",
    "    \n",
    "    # Now create the QuotedTrade object and append it to the quoted_trades list.\n",
    "    # Insert your answer code here\n",
    "    request = matched[0]\n",
    "    \n",
    "    ticker = request[0]\n",
    "    date = request[1]\n",
    "    trade_volume = request[2]\n",
    "    \n",
    "    trade = QuotedTrade(ticker, trade_volume, ref_price, bid_price, offer_price, date)\n",
    "    quoted_trades.append(trade)\n",
    "    "
   ]
  },
  {
   "cell_type": "markdown",
   "metadata": {
    "deletable": false,
    "editable": false,
    "nbgrader": {
     "cell_type": "markdown",
     "checksum": "eaaec149dccc1c194ee38abaab5de35e",
     "grade": false,
     "grade_id": "cell-a349fae73dcb9fbd",
     "locked": true,
     "schema_version": 3,
     "solution": false,
     "task": false
    }
   },
   "source": [
    "<div style=\"background-color: #D4EDDA; border-left: 6px solid #28A745; padding: 15px; margin-bottom: 15px; border-radius: 5px;\">\n",
    "    <h4>Output Check</h4>\n",
    "    <p>Run the cell below to display your final <code>quoted_trades</code> list.</p>\n",
    "    <p>You should see a list containing ten <code>QuotedTrade</code> objects, confirming that your class and loop worked correctly.</p>\n",
    "</div>"
   ]
  },
  {
   "cell_type": "code",
   "execution_count": 95,
   "metadata": {
    "deletable": false,
    "editable": false,
    "nbgrader": {
     "cell_type": "code",
     "checksum": "45766d50c275e787993258e3070e6ebe",
     "grade": false,
     "grade_id": "cell-baa66e2e7ded583d",
     "locked": true,
     "schema_version": 3,
     "solution": false,
     "task": false
    }
   },
   "outputs": [
    {
     "name": "stdout",
     "output_type": "stream",
     "text": [
      "[QuotedTrade(ticker=FB, trade_volume=3010, ref_price=194.44, bid_price=190.5512, offer_price=198.3288, date=0), QuotedTrade(ticker=AAPL, trade_volume=6929, ref_price=74.63, bid_price=73.1374, offer_price=76.12259999999999, date=10000), QuotedTrade(ticker=FB, trade_volume=7015, ref_price=195.75, bid_price=191.835, offer_price=199.665, date=30000), QuotedTrade(ticker=FB, trade_volume=4910, ref_price=193.3, bid_price=189.434, offer_price=197.16600000000003, date=70000), QuotedTrade(ticker=AAPL, trade_volume=5783, ref_price=73.13, bid_price=71.6674, offer_price=74.59259999999999, date=105000), QuotedTrade(ticker=AAPL, trade_volume=3280, ref_price=73.83, bid_price=72.3534, offer_price=75.3066, date=110000), QuotedTrade(ticker=FB, trade_volume=2465, ref_price=185.76, bid_price=182.04479999999998, offer_price=189.4752, date=115000), QuotedTrade(ticker=AAPL, trade_volume=656, ref_price=76.56, bid_price=75.0288, offer_price=78.0912, date=120000), QuotedTrade(ticker=FB, trade_volume=1948, ref_price=191.32, bid_price=187.4936, offer_price=195.1464, date=130000), QuotedTrade(ticker=FB, trade_volume=1386, ref_price=195.82, bid_price=191.90359999999998, offer_price=199.7364, date=150000)]\n"
     ]
    }
   ],
   "source": [
    "print(quoted_trades)"
   ]
  },
  {
   "cell_type": "markdown",
   "metadata": {
    "deletable": false,
    "editable": false,
    "nbgrader": {
     "cell_type": "markdown",
     "checksum": "aa31927a2574d4103f726aadbff69ebd",
     "grade": false,
     "grade_id": "cell-2ae071e75bb25318",
     "locked": true,
     "schema_version": 3,
     "solution": false,
     "task": false
    }
   },
   "source": [
    "<div style=\"background-color: #f8f9fa; border: 1px solid #dee2e6; padding: 15px; margin-bottom: 15px; border-radius: 5px;\">\n",
    "    <h4>For Grading Purposes Only</h4>\n",
    "    <p>You don't need to change anything in the cell below. It's used to check your work automatically. Please run it without making any changes.</p>\n",
    "</div>"
   ]
  },
  {
   "cell_type": "code",
   "execution_count": null,
   "metadata": {
    "deletable": false,
    "editable": false,
    "nbgrader": {
     "cell_type": "code",
     "checksum": "9324dc9f85637d34d0866ec347b55de0",
     "grade": true,
     "grade_id": "cell-106ce2201a6a2fbc",
     "locked": true,
     "points": 1,
     "schema_version": 3,
     "solution": false,
     "task": false
    }
   },
   "outputs": [],
   "source": [
    "# GRADING CELL"
   ]
  },
  {
   "cell_type": "markdown",
   "metadata": {
    "deletable": false,
    "editable": false,
    "nbgrader": {
     "cell_type": "markdown",
     "checksum": "282c01edb76446a88e5a227a1976f60c",
     "grade": false,
     "grade_id": "cell-3ec62f4d803fadfe",
     "locked": true,
     "schema_version": 3,
     "solution": false,
     "task": false
    }
   },
   "source": [
    "### **Task D: Get the Hedge Fund's Decision**\n",
    "\n",
    "This is the final step of the process. You will now send each of your `QuotedTrade` objects to the hedge fund client (represented by the `hf` object) to get their decision. The client will respond by telling you if they want to **Buy** from you, **Sell** to you, or **Refuse** the trade entirely.\n",
    "\n",
    "<div style=\"background-color: #F8F9F9; border: 1px solid #DEE2E6; padding: 15px; margin-bottom: 15px; border-radius: 5px;\">\n",
    "    <h4>Method Documentation: <code>hf.show()</code></h4>\n",
    "    <p>This function simulates sending your quote to the hedge fund for a decision.</p>\n",
    "    <hr style=\"border-top: 1px solid #E9ECEF; margin: 10px 0;\">\n",
    "    <p><b>Method:</b> <code>hf.show(trade)</code></p>\n",
    "    <p><b>Parameters:</b></p>\n",
    "    <ul><li><code>trade</code>: A single <code>QuotedTrade</code> object you created in the previous step.</li></ul>\n",
    "    <p><b>Returns:</b></p>\n",
    "    <ul><li>An <code>HfResponse</code> object. This object contains the fund's action ('Buy', 'Sell', or 'Refuse') and the final details of the trade.</li></ul>\n",
    "</div>\n",
    "\n",
    "<div style=\"background-color: #E7F3FE; border-left: 6px solid #2196F3; padding: 15px; margin-bottom: 15px; border-radius: 5px;\">\n",
    "<h4>Your Task</h4>\n",
    "<ol>\n",
    "    <li>Create an empty list called <code>hf_responses</code>.</li>\n",
    "    <li>Loop through your list of <code>quoted_trades</code> objects.</li>\n",
    "    <li>For each <code>QuotedTrade</code> object, pass it to the <code>hf.show()</code> method.</li>\n",
    "    <li>Append the resulting <code>HfResponse</code> object to your <code>hf_responses</code> list.</li>\n",
    "</ol>\n",
    "</div>"
   ]
  },
  {
   "cell_type": "code",
   "execution_count": 96,
   "metadata": {
    "deletable": false,
    "editable": false,
    "nbgrader": {
     "cell_type": "code",
     "checksum": "e7b35539d334a925ba6fbf6e70831d0c",
     "grade": false,
     "grade_id": "cell-016d41309d106a52",
     "locked": true,
     "schema_version": 3,
     "solution": false,
     "task": false
    }
   },
   "outputs": [],
   "source": [
    "hf_responses = []"
   ]
  },
  {
   "cell_type": "code",
   "execution_count": 97,
   "metadata": {
    "deletable": false,
    "nbgrader": {
     "cell_type": "code",
     "checksum": "3507d4d393e9810cb137a084b9596151",
     "grade": false,
     "grade_id": "cell-f6106fcbf78adf23",
     "locked": false,
     "schema_version": 3,
     "solution": true,
     "task": false
    }
   },
   "outputs": [],
   "source": [
    "# Replace the ? in this task with your answer.\n",
    "\n",
    "for trade in quoted_trades:\n",
    "    response = hf.show(trade) # Assign the response to the return from the hf.show()\n",
    "    # Insert your answer code here\n",
    "    hf_responses.append(response)"
   ]
  },
  {
   "cell_type": "markdown",
   "metadata": {
    "deletable": false,
    "editable": false,
    "nbgrader": {
     "cell_type": "markdown",
     "checksum": "edaa83babde50728970a379b30522322",
     "grade": false,
     "grade_id": "cell-418c8973f359240a",
     "locked": true,
     "schema_version": 3,
     "solution": false,
     "task": false
    }
   },
   "source": [
    "<div style=\"background-color: #D4EDDA; border-left: 6px solid #28A745; padding: 15px; margin-bottom: 15px; border-radius: 5px;\">\n",
    "    <h4>Output Check</h4>\n",
    "    <p>Run the cell below to see the final <code>hf_responses</code> list.</p>\n",
    "    <p>This output shows the decision for each of your quotes, completing the market-making cycle.</p>\n",
    "</div>"
   ]
  },
  {
   "cell_type": "code",
   "execution_count": 47,
   "metadata": {
    "deletable": false,
    "editable": false,
    "nbgrader": {
     "cell_type": "code",
     "checksum": "39e6419fbd1e20d3618ab289dc800160",
     "grade": false,
     "grade_id": "cell-445888e408bf1715",
     "locked": true,
     "schema_version": 3,
     "solution": false,
     "task": false
    }
   },
   "outputs": [
    {
     "name": "stdout",
     "output_type": "stream",
     "text": [
      "[HfResponse(ticker=FB, trade_volume=3010, trade_price=190.5512, hf_action=sell, ref_price=194.44, bid_price=190.5512, offer_price=198.3288, date=0), HfResponse(ticker=AAPL, trade_volume=6929, trade_price=73.1374, hf_action=sell, ref_price=74.63, bid_price=73.1374, offer_price=76.12259999999999, date=10000), HfResponse(ticker=FB, trade_volume=7015, trade_price=199.665, hf_action=buy, ref_price=195.75, bid_price=191.835, offer_price=199.665, date=30000), HfResponse(ticker=FB, trade_volume=4910, trade_price=197.16600000000003, hf_action=buy, ref_price=193.3, bid_price=189.434, offer_price=197.16600000000003, date=70000), HfResponse(ticker=AAPL, trade_volume=5783, trade_price=74.59259999999999, hf_action=buy, ref_price=73.13, bid_price=71.6674, offer_price=74.59259999999999, date=105000), HfResponse(ticker=AAPL, trade_volume=3280, trade_price=75.3066, hf_action=buy, ref_price=73.83, bid_price=72.3534, offer_price=75.3066, date=110000), HfResponse(ticker=FB, trade_volume=2465, trade_price=182.04479999999998, hf_action=sell, ref_price=185.76, bid_price=182.04479999999998, offer_price=189.4752, date=115000), HfResponse(ticker=AAPL, trade_volume=656, trade_price=75.0288, hf_action=sell, ref_price=76.56, bid_price=75.0288, offer_price=78.0912, date=120000), HfResponse(ticker=FB, trade_volume=1948, trade_price=195.1464, hf_action=buy, ref_price=191.32, bid_price=187.4936, offer_price=195.1464, date=130000), HfResponse(ticker=FB, trade_volume=1386, trade_price=191.90359999999998, hf_action=sell, ref_price=195.82, bid_price=191.90359999999998, offer_price=199.7364, date=150000)]\n"
     ]
    }
   ],
   "source": [
    "print(hf_responses)"
   ]
  },
  {
   "cell_type": "markdown",
   "metadata": {
    "deletable": false,
    "editable": false,
    "nbgrader": {
     "cell_type": "markdown",
     "checksum": "c3cc1a12e0588f7bd7b2cf091770f5d1",
     "grade": false,
     "grade_id": "cell-8b97d29e3d7a569d",
     "locked": true,
     "schema_version": 3,
     "solution": false,
     "task": false
    }
   },
   "source": [
    "<div style=\"background-color: #f8f9fa; border: 1px solid #dee2e6; padding: 15px; margin-bottom: 15px; border-radius: 5px;\">\n",
    "    <h4>For Grading Purposes Only</h4>\n",
    "    <p>You don't need to change anything in the cell below. It's used to check your work automatically. Please run it without making any changes.</p>\n",
    "</div>"
   ]
  },
  {
   "cell_type": "code",
   "execution_count": null,
   "metadata": {
    "deletable": false,
    "editable": false,
    "nbgrader": {
     "cell_type": "code",
     "checksum": "54370f4d2b4070b6f7c25052967676f2",
     "grade": true,
     "grade_id": "cell-e0e2f0e2c0c47ed2",
     "locked": true,
     "points": 1,
     "schema_version": 3,
     "solution": false,
     "task": false
    }
   },
   "outputs": [],
   "source": [
    "# GRADING CELL"
   ]
  },
  {
   "cell_type": "markdown",
   "metadata": {
    "deletable": false,
    "editable": false,
    "nbgrader": {
     "cell_type": "markdown",
     "checksum": "babada890da59efdcdbd23a4c03ca15f",
     "grade": false,
     "grade_id": "cell-0e50484308b8ffb1",
     "locked": true,
     "schema_version": 3,
     "solution": false,
     "task": false
    }
   },
   "source": [
    "### **Task E: Initialize the Market Maker**\n",
    "\n",
    "Now it's time to bring everything together. You will initialize the main `MarketMaker` class, which will act as the central controller for tracking your positions, quotes, and completed trades throughout the simulation.\n",
    "\n",
    "<div style=\"background-color: #F8F9F9; border: 1px solid #DEE2E6; padding: 15px; margin-bottom: 15px; border-radius: 5px;\">\n",
    "    <h4>The `MarketMaker` Object</h4>\n",
    "    <p>The `MarketMaker` object is the central controller for our simulation and is initialized with the following attributes to track all activity:</p>\n",
    "    <ul>\n",
    "        <li><code>current_positions</code>: A dictionary tracking the volume of each asset you currently hold.\n",
    "            <ul><li><em>Structure: <code>{ 'TICKER': position_object, ... }</code></em></li></ul>\n",
    "        </li>\n",
    "        <li><code>quoted_trades</code>: A list to store all the <code>QuotedTrade</code> objects you create.</li>\n",
    "        <li><code>completed_trades</code>: A list to store all trades that clients have accepted (both buys and sells).</li>\n",
    "        <li><code>ETF_positions</code>: A list used specifically to track your ETF trades.</li>\n",
    "    </ul>\n",
    "</div>\n",
    "\n",
    "<div style=\"background-color: #E7F3FE; border-left: 6px solid #2196F3; padding: 15px; margin-bottom: 15px; border-radius: 5px;\">\n",
    "    <h4>Your Task: Initialize the Object</h4>\n",
    "    <p>Run the code cell below to create your instance of the <code>MarketMaker</code> class. This will make the <code>market_maker</code> object available for the next steps.</p>\n",
    "</div>"
   ]
  },
  {
   "cell_type": "code",
   "execution_count": 124,
   "metadata": {
    "deletable": false,
    "editable": false,
    "nbgrader": {
     "cell_type": "code",
     "checksum": "a44920a859432a682aa46e52a28ac36e",
     "grade": false,
     "grade_id": "cell-e594040914e04f9c",
     "locked": true,
     "schema_version": 3,
     "solution": false,
     "task": false
    }
   },
   "outputs": [],
   "source": [
    "mm = MarketMaker.mm()"
   ]
  },
  {
   "cell_type": "markdown",
   "metadata": {
    "deletable": false,
    "editable": false,
    "nbgrader": {
     "cell_type": "markdown",
     "checksum": "93d71d48d6ac53f0ceda6adb6c5ffff3",
     "grade": false,
     "grade_id": "cell-2eb48c71b1867f57",
     "locked": true,
     "schema_version": 3,
     "solution": false,
     "task": false
    }
   },
   "source": [
    "### **Task F: Log Your Quoted Trades**\n",
    "\n",
    "A crucial part of market making is keeping a detailed log of all activity. Your next task is to log every quote you've prepared by adding each one to your `market_maker` object.\n",
    "\n",
    "<div style=\"background-color: #F8F9F9; border: 1px solid #DEE2E6; padding: 15px; margin-bottom: 15px; border-radius: 5px;\">\n",
    "    <h4>Method: <code>market_maker.add_quoted_trade()</code></h4>\n",
    "    <p>This method adds a single <code>QuotedTrade</code> object to the market maker's internal log of quoted trades.</p>\n",
    "    <hr style=\"border-top: 1px solid #E9ECEF; margin: 10px 0;\">\n",
    "    <p><b>Parameters:</b></p>\n",
    "    <ul><li><code>trade</code>: A single <code>QuotedTrade</code> object.</li></ul>\n",
    "    <p><b>Returns:</b></p>\n",
    "    <ul><li>A confirmation message (String) indicating if the trade was added successfully.</li></ul>\n",
    "</div>\n",
    "\n",
    "<div style=\"background-color: #E7F3FE; border-left: 6px solid #2196F3; padding: 15px; margin-bottom: 15px; border-radius: 5px;\">\n",
    "<h4>Your Task</h4>\n",
    "<ol>\n",
    "    <li>Loop through the <code>quoted_trades</code> list you created earlier.</li>\n",
    "    <li>Inside the loop, call the <code>market_maker.add_quoted_trade()</code> method for each trade object to log it.</li>\n",
    "</ol>\n",
    "</div>"
   ]
  },
  {
   "cell_type": "code",
   "execution_count": 125,
   "metadata": {
    "deletable": false,
    "nbgrader": {
     "cell_type": "code",
     "checksum": "1d2aa9fa4a50272d1c1d7c6867899098",
     "grade": false,
     "grade_id": "cell-cb05edf6a52feea0",
     "locked": false,
     "schema_version": 3,
     "solution": true,
     "task": false
    }
   },
   "outputs": [],
   "source": [
    "for quote in quoted_trades:\n",
    "    # Use the function to add each quote to the Market Maker\n",
    "    # Insert your answer code here\n",
    "    mm.add_quoted_trade(quote)"
   ]
  },
  {
   "cell_type": "markdown",
   "metadata": {
    "deletable": false,
    "editable": false,
    "nbgrader": {
     "cell_type": "markdown",
     "checksum": "96ca2850deb8498617f5363530d9b0cc",
     "grade": false,
     "grade_id": "cell-eeb102c5e3ffdac1",
     "locked": true,
     "schema_version": 3,
     "solution": false,
     "task": false
    }
   },
   "source": [
    "<div style=\"background-color: #D4EDDA; border-left: 6px solid #28A745; padding: 15px; margin-bottom: 15px; border-radius: 5px;\">\n",
    "    <h4>Output Check</h4>\n",
    "    <p>Run the cell below to check the contents of the <code>market_maker.quoted_trades</code> list.</p>\n",
    "    <p>This confirms that all ten of your quoted trades have been successfully logged inside the market maker object.</p>\n",
    "</div>"
   ]
  },
  {
   "cell_type": "code",
   "execution_count": 126,
   "metadata": {
    "deletable": false,
    "editable": false,
    "nbgrader": {
     "cell_type": "code",
     "checksum": "a271d2500aa5a1d41fca48b20a57ab0b",
     "grade": false,
     "grade_id": "cell-3f5209199c32b9fa",
     "locked": true,
     "schema_version": 3,
     "solution": false,
     "task": false
    }
   },
   "outputs": [
    {
     "name": "stdout",
     "output_type": "stream",
     "text": [
      "[QuotedTrade(ticker=FB, trade_volume=3010, ref_price=194.44, bid_price=190.5512, offer_price=198.3288, date=0), QuotedTrade(ticker=AAPL, trade_volume=6929, ref_price=74.63, bid_price=73.1374, offer_price=76.12259999999999, date=10000), QuotedTrade(ticker=FB, trade_volume=7015, ref_price=195.75, bid_price=191.835, offer_price=199.665, date=30000), QuotedTrade(ticker=FB, trade_volume=4910, ref_price=193.3, bid_price=189.434, offer_price=197.16600000000003, date=70000), QuotedTrade(ticker=AAPL, trade_volume=5783, ref_price=73.13, bid_price=71.6674, offer_price=74.59259999999999, date=105000), QuotedTrade(ticker=AAPL, trade_volume=3280, ref_price=73.83, bid_price=72.3534, offer_price=75.3066, date=110000), QuotedTrade(ticker=FB, trade_volume=2465, ref_price=185.76, bid_price=182.04479999999998, offer_price=189.4752, date=115000), QuotedTrade(ticker=AAPL, trade_volume=656, ref_price=76.56, bid_price=75.0288, offer_price=78.0912, date=120000), QuotedTrade(ticker=FB, trade_volume=1948, ref_price=191.32, bid_price=187.4936, offer_price=195.1464, date=130000), QuotedTrade(ticker=FB, trade_volume=1386, ref_price=195.82, bid_price=191.90359999999998, offer_price=199.7364, date=150000)]\n"
     ]
    }
   ],
   "source": [
    "print(mm.quoted_trades)"
   ]
  },
  {
   "cell_type": "markdown",
   "metadata": {
    "deletable": false,
    "editable": false,
    "nbgrader": {
     "cell_type": "markdown",
     "checksum": "222a2cd599f20fb17e72908a52b9aa31",
     "grade": false,
     "grade_id": "cell-ead8b967d22ecc43",
     "locked": true,
     "schema_version": 3,
     "solution": false,
     "task": false
    }
   },
   "source": [
    "### **Task G: Create a `CompletedTrade` Class**\n",
    "\n",
    "When a hedge fund accepts one of your quotes, the trade is considered \"completed.\" To keep a clean record of your successful transactions, you will create a new `CompletedTrade` class.\n",
    "\n",
    "This class will act as a blueprint for logging every trade that actually gets executed.\n",
    "\n",
    "<div style=\"background-color: #F6DDDB; border-left: 6px solid #CE443B; padding: 15px; margin-bottom: 15px; border-radius: 5px;\">\n",
    "    <h4>Class Blueprint: `CompletedTrade`</h4>\n",
    "    <p>Each object made from this class will represent a single successful trade and must contain the following attributes:</p>\n",
    "    <ul>\n",
    "        <li><code>ticker</code>: The asset's name (String)</li>\n",
    "        <li><code>trade_volume</code>: The number of shares traded (Integer)</li>\n",
    "        <li><code>trade_price</code>: The final price the trade was executed at (Float)</li>\n",
    "        <li><code>mm_action</code>: The market maker's side of the trade ('Buy' or 'Sell') (String)</li>\n",
    "        <li><code>ref_price</code>: The original reference price (Float)</li>\n",
    "        <li><code>bid_price</code>: The original bid price you quoted (Float)</li>\n",
    "        <li><code>offer_price</code>: The original offer price you quoted (Float)</li>\n",
    "        <li><code>date</code>: The timestamp of the request (Integer)</li>\n",
    "    </ul>\n",
    "</div>\n",
    "\n",
    "<div style=\"background-color: #E7F3FE; border-left: 6px solid #2196F3; padding: 15px; margin-bottom: 15px; border-radius: 5px;\">\n",
    "<h4>Your Task</h4>\n",
    "<ol>\n",
    "    <li><strong>Define the <code>CompletedTrade</code> class.</strong></li>\n",
    "    <li>Inside the class, create an <code>__init__</code> method.</li>\n",
    "    <li>The <code>__init__</code> method should accept all the necessary information from a hedge fund's response and set the attributes listed above.</li>\n",
    "</ol>\n",
    "</div>"
   ]
  },
  {
   "cell_type": "code",
   "execution_count": 127,
   "metadata": {
    "deletable": false,
    "nbgrader": {
     "cell_type": "code",
     "checksum": "2f8f9c0af111f791b96b8dd726ff488c",
     "grade": false,
     "grade_id": "cell-fb5a051969912f63",
     "locked": false,
     "schema_version": 3,
     "solution": true,
     "task": false
    }
   },
   "outputs": [],
   "source": [
    "class CompletedTrade:\n",
    "    # Insert your answer code here\n",
    "    def __init__(self, ticker, trade_volume, trade_price, mm_action, ref_price, bid_price, offer_price,\n",
    "                 date):\n",
    "        self.ticker = ticker\n",
    "        self.trade_volume = trade_volume\n",
    "        self.trade_price = trade_price\n",
    "        self.mm_action = mm_action\n",
    "        self.ref_price = ref_price\n",
    "        self.bid_price = bid_price\n",
    "        self.offer_price = offer_price\n",
    "        self.date = date\n",
    "\n",
    "    def __str__(self):\n",
    "        return  f\"Completed Trade for {self.ticker}, {self.trade_volume} shares @ {self.trade_price} on {self.date}, Action: {self.mm_action}, Reference_Price: {self.ref_price}, Bid Price: {self.bid_price} and Offer Price: {self.offer_price}\"\n",
    "\n",
    "    def __repr__(self):\n",
    "        return f\"CompletedTrade(ticker={self.ticker}, trade_volume={self.trade_volume}, trade_price={self.trade_price}, mm_action='{self.mm_action}', ref_price={self.ref_price}, bid_price={self.bid_price}, offer_price={self.offer_price}, date={self.date})\""
   ]
  },
  {
   "cell_type": "markdown",
   "metadata": {
    "deletable": false,
    "editable": false,
    "nbgrader": {
     "cell_type": "markdown",
     "checksum": "076d9939e2607653ce15c0539153fb9e",
     "grade": false,
     "grade_id": "cell-aec07b65343676b6",
     "locked": true,
     "schema_version": 3,
     "solution": false,
     "task": false
    }
   },
   "source": [
    "### **Log Completed Trades & Update Positions**\n",
    "\n",
    "Now that you have the hedge fund's decisions, it's time to update your records. You'll process the `hf_responses` list, ignoring any refused trades and logging the successful ones. This final step will also update your inventory to reflect your new positions.\n",
    "\n",
    "<div style=\"background-color: #F8F9F9; border: 1px solid #DEE2E6; padding: 15px; margin-bottom: 15px; border-radius: 5px;\">\n",
    "    <h4>⚙️ Method: <code>market_maker.add_trade()</code></h4>\n",
    "    <p>This crucial method logs a completed trade to your history and automatically updates your current position in that asset.</p>\n",
    "    <hr style=\"border-top: 1px solid #E9ECEF; margin: 10px 0;\">\n",
    "    <p><b>Parameters:</b></p>\n",
    "    <ul><li><code>trade</code>: A single <code>CompletedTrade</code> object.</li></ul>\n",
    "    <p><b>Returns:</b></p>\n",
    "    <ul><li>A confirmation message (String) indicating if the trade was added successfully.</li></ul>\n",
    "</div>\n",
    "\n",
    "<div style=\"background-color: #FFF3CD; border-left: 6px solid #FFC107; padding: 15px; margin-bottom: 15px; border-radius: 5px;\">\n",
    "    <h4>⚠️ Important Logic</h4>\n",
    "    <p>You must only process responses where the trade was accepted. Check the <code>hf_action</code> attribute in each response:</p>\n",
    "    <ul>\n",
    "        <li>If the action is 'Buy' or 'Sell', you should log it.</li>\n",
    "        <li>If the action is 'Refuse', you should ignore it and move to the next response.</li>\n",
    "    </ul>\n",
    "</div>\n",
    "\n",
    "<div style=\"background-color: #E7F3FE; border-left: 6px solid #2196F3; padding: 15px; margin-bottom: 15px; border-radius: 5px;\">\n",
    "<h4>Your Task</h4>\n",
    "<ol>\n",
    "    <li>Loop through the <code>hf_responses</code> list.</li>\n",
    "    <li>For each response, check if the <code>hf_action</code> is <b>not</b> 'Refuse'.</li>\n",
    "    <li>If the trade was accepted, create an instance of your <code>CompletedTrade</code> class using the data from the response object.</li>\n",
    "    <li>Pass this new <code>CompletedTrade</code> object to the <code>market_maker.add_trade()</code> method to log it.</li>\n",
    "</ol>\n",
    "</div>"
   ]
  },
  {
   "cell_type": "code",
   "execution_count": 128,
   "metadata": {
    "deletable": false,
    "nbgrader": {
     "cell_type": "code",
     "checksum": "71ded18b268ef6584b4ca2105174042a",
     "grade": false,
     "grade_id": "cell-c8f52b102a9edb6a",
     "locked": false,
     "schema_version": 3,
     "solution": true,
     "task": false
    }
   },
   "outputs": [],
   "source": [
    "for response in hf_responses: # Loops through the hf_responses for each response\n",
    "        \n",
    "    # Collection of conditionals for \"buy\", \"sell\" and \"refuse\"\n",
    "    if response.hf_action == \"buy\": # Identifies the HF action to be converted into the MM action\n",
    "        # Insert your answer code here\n",
    "        mm_action = \"sell\"\n",
    "    elif response.hf_action == \"sell\":\n",
    "        mm_action = \"buy\"\n",
    "    elif response.hf_action == \"refuse\":\n",
    "        continue\n",
    "    else:\n",
    "        continue\n",
    "    trade = CompletedTrade(\n",
    "        ticker=response.ticker,\n",
    "        trade_volume=response.trade_volume,\n",
    "        trade_price=response.trade_price,\n",
    "        mm_action=mm_action,\n",
    "        ref_price=response.ref_price,\n",
    "        bid_price=response.bid_price,\n",
    "        offer_price=response.offer_price,\n",
    "        date=response.date\n",
    "    )\n",
    "    mm.add_trade(trade)"
   ]
  },
  {
   "cell_type": "markdown",
   "metadata": {
    "deletable": false,
    "editable": false,
    "nbgrader": {
     "cell_type": "markdown",
     "checksum": "b631de449698a5a4fcd066ae79a57b17",
     "grade": false,
     "grade_id": "cell-4793642ce2718d65",
     "locked": true,
     "schema_version": 3,
     "solution": false,
     "task": false
    }
   },
   "source": [
    "<div style=\"background-color: #D4EDDA; border-left: 6px solid #28A745; padding: 15px; margin-bottom: 15px; border-radius: 5px;\">\n",
    "    <h4>Output Check</h4>\n",
    "    <p>Run the cell below to view the contents of your <code>market_maker.completed_trades</code> list.</p>\n",
    "    <p>This output confirms your final log, which should only contain the trades that were successfully executed ('Buy' or 'Sell').</p>\n",
    "</div>"
   ]
  },
  {
   "cell_type": "code",
   "execution_count": 129,
   "metadata": {
    "deletable": false,
    "editable": false,
    "nbgrader": {
     "cell_type": "code",
     "checksum": "25f47ad3a3c2f662f0889e5ee635bcd2",
     "grade": false,
     "grade_id": "cell-ee1493e2a72fd768",
     "locked": true,
     "schema_version": 3,
     "solution": false,
     "task": false
    }
   },
   "outputs": [
    {
     "name": "stdout",
     "output_type": "stream",
     "text": [
      "[CompletedTrade(ticker=FB, trade_volume=3010, trade_price=190.5512, mm_action='buy', ref_price=194.44, bid_price=190.5512, offer_price=198.3288, date=0), CompletedTrade(ticker=AAPL, trade_volume=6929, trade_price=73.1374, mm_action='buy', ref_price=74.63, bid_price=73.1374, offer_price=76.12259999999999, date=10000), CompletedTrade(ticker=FB, trade_volume=7015, trade_price=199.665, mm_action='sell', ref_price=195.75, bid_price=191.835, offer_price=199.665, date=30000), CompletedTrade(ticker=FB, trade_volume=4910, trade_price=197.16600000000003, mm_action='sell', ref_price=193.3, bid_price=189.434, offer_price=197.16600000000003, date=70000), CompletedTrade(ticker=AAPL, trade_volume=5783, trade_price=74.59259999999999, mm_action='sell', ref_price=73.13, bid_price=71.6674, offer_price=74.59259999999999, date=105000), CompletedTrade(ticker=AAPL, trade_volume=3280, trade_price=75.3066, mm_action='sell', ref_price=73.83, bid_price=72.3534, offer_price=75.3066, date=110000), CompletedTrade(ticker=FB, trade_volume=2465, trade_price=182.04479999999998, mm_action='buy', ref_price=185.76, bid_price=182.04479999999998, offer_price=189.4752, date=115000), CompletedTrade(ticker=AAPL, trade_volume=656, trade_price=75.0288, mm_action='buy', ref_price=76.56, bid_price=75.0288, offer_price=78.0912, date=120000), CompletedTrade(ticker=FB, trade_volume=1948, trade_price=195.1464, mm_action='sell', ref_price=191.32, bid_price=187.4936, offer_price=195.1464, date=130000), CompletedTrade(ticker=FB, trade_volume=1386, trade_price=191.90359999999998, mm_action='buy', ref_price=195.82, bid_price=191.90359999999998, offer_price=199.7364, date=150000)]\n"
     ]
    }
   ],
   "source": [
    "print(mm.completed_trades)"
   ]
  },
  {
   "cell_type": "markdown",
   "metadata": {
    "deletable": false,
    "editable": false,
    "nbgrader": {
     "cell_type": "markdown",
     "checksum": "ab85e68b6fa0b41d670731f4078627a3",
     "grade": false,
     "grade_id": "cell-e8bf17230d0203d7",
     "locked": true,
     "schema_version": 3,
     "solution": false,
     "task": false
    }
   },
   "source": [
    "<div style=\"background-color: #f8f9fa; border: 1px solid #dee2e6; padding: 15px; margin-bottom: 15px; border-radius: 5px;\">\n",
    "    <h4>For Grading Purposes Only</h4>\n",
    "    <p>You don't need to change anything in the cell below. It's used to check your work automatically. Please run it without making any changes.</p>\n",
    "</div>"
   ]
  },
  {
   "cell_type": "code",
   "execution_count": 130,
   "metadata": {
    "deletable": false,
    "editable": false,
    "nbgrader": {
     "cell_type": "code",
     "checksum": "282594aac79b3e4514b36df057b5d6c3",
     "grade": true,
     "grade_id": "cell-92ae5fee0027d4eb",
     "locked": true,
     "points": 1,
     "schema_version": 3,
     "solution": false,
     "task": false
    }
   },
   "outputs": [],
   "source": [
    "# GRADING CELL"
   ]
  },
  {
   "cell_type": "markdown",
   "metadata": {
    "deletable": false,
    "editable": false,
    "nbgrader": {
     "cell_type": "markdown",
     "checksum": "acb7dd84cc7f02273208e7ad9eed84a0",
     "grade": false,
     "grade_id": "cell-e1ce2acbe9d65639",
     "locked": true,
     "schema_version": 3,
     "solution": false,
     "task": false
    }
   },
   "source": [
    "### **Task I: Visualize Your AAPL Quotes**\n",
    "\n",
    "A key skill for any quant is the ability to visualize data. You will now create a chart to see how your quoted bid and offer prices for **AAPL** behaved around the market's reference price over time.\n",
    "\n",
    "<div style=\"background-color: #FFF3CD; border-left: 6px solid #FFC107; padding: 15px; margin-bottom: 15px; border-radius: 5px;\">\n",
    "    <h4>Chart Requirements</h4>\n",
    "    <p>Your final plot must meet the following criteria:</p>\n",
    "    <ul>\n",
    "        <li><strong>Library:</strong> Use the <code>matplotlib</code> library.</li>\n",
    "        <li><strong>Data:</strong> Only include trades for the ticker <strong>'AAPL'</strong>.</li>\n",
    "        <li><strong>X-axis:</strong> Date</li>\n",
    "        <li><strong>Y-axis:</strong> Bid Price, Offer Price, and Reference Price.</li>\n",
    "    </ul>\n",
    "</div>\n",
    "\n",
    "<div style=\"background-color: #E7F3FE; border-left: 6px solid #2196F3; padding: 15px; margin-bottom: 15px; border-radius: 5px;\">\n",
    "<h4>Your Task</h4>\n",
    "<ol>\n",
    "    <li><strong>Filter the Data:</strong> Create new lists to hold the <code>date</code>, <code>bid_price</code>, <code>offer_price</code>, and <code>ref_price</code> for <strong>AAPL trades only</strong>.</li>\n",
    "</ol>\n",
    "</div>"
   ]
  },
  {
   "cell_type": "code",
   "execution_count": 131,
   "metadata": {
    "deletable": false,
    "nbgrader": {
     "cell_type": "code",
     "checksum": "f659f5d2abc3dcb646dd2f70d66f5d1c",
     "grade": false,
     "grade_id": "cell-ee63e401086f7686",
     "locked": false,
     "schema_version": 3,
     "solution": true,
     "task": false
    }
   },
   "outputs": [],
   "source": [
    "# Initalises the lists to store all the data\n",
    "bid_data = []\n",
    "offer_data = []\n",
    "quote_dates = []\n",
    "\n",
    "for trade in mm.completed_trades: # Iterate through the completed trades to find the AAPL trades and store the data.\n",
    "    # Append the bid_data and offer_data and quote_dates.\n",
    "    # Insert your answer code here\n",
    "    if trade.ticker == \"AAPL\":\n",
    "        bid_data.append(trade.bid_price)\n",
    "        offer_data.append(trade.offer_price)\n",
    "        quote_dates.append(trade.date)\n",
    "    "
   ]
  },
  {
   "cell_type": "markdown",
   "metadata": {
    "deletable": false,
    "editable": false,
    "nbgrader": {
     "cell_type": "markdown",
     "checksum": "4ce5148196536b164a6b614213cca7ee",
     "grade": false,
     "grade_id": "cell-8f76913a7c10dd85",
     "locked": true,
     "schema_version": 3,
     "solution": false,
     "task": false
    }
   },
   "source": [
    "<div style=\"background-color: #D4EDDA; border-left: 6px solid #28A745; padding: 15px; margin-bottom: 15px; border-radius: 5px;\">\n",
    "    <h4>Output Check</h4>\n",
    "    <p>Run the cell below to print the lists you just created for your plot.</p>\n",
    "    <p>Before plotting, it's crucial to confirm that all lists have the <b>same length</b>. If they do, your data is ready for visualization!</p>\n",
    "</div>"
   ]
  },
  {
   "cell_type": "code",
   "execution_count": 132,
   "metadata": {
    "deletable": false,
    "editable": false,
    "nbgrader": {
     "cell_type": "code",
     "checksum": "818551955dceb53a4364a42c34a43a70",
     "grade": false,
     "grade_id": "cell-35bfc92204cc0982",
     "locked": true,
     "schema_version": 3,
     "solution": false,
     "task": false
    }
   },
   "outputs": [
    {
     "name": "stdout",
     "output_type": "stream",
     "text": [
      "bid_data: [73.1374, 71.6674, 72.3534, 75.0288]\n",
      "offer_data: [76.12259999999999, 74.59259999999999, 75.3066, 78.0912]\n",
      "quote_dates: [10000, 105000, 110000, 120000]\n"
     ]
    }
   ],
   "source": [
    "print(\"bid_data:\", bid_data)\n",
    "print(\"offer_data:\", offer_data)\n",
    "print(\"quote_dates:\", quote_dates)"
   ]
  },
  {
   "cell_type": "markdown",
   "metadata": {
    "deletable": false,
    "editable": false,
    "nbgrader": {
     "cell_type": "markdown",
     "checksum": "209e9d0bd4b3a1d291182da9da764e3f",
     "grade": false,
     "grade_id": "cell-811ecb8839822f75",
     "locked": true,
     "schema_version": 3,
     "solution": false,
     "task": false
    }
   },
   "source": [
    "The `quote_dates`, `bid_data`, and `offer_data` lists are now ready.\n",
    "\n",
    "<div style=\"background-color: #E7F3FE; border-left: 6px solid #2196F3; padding: 15px; margin-bottom: 15px; border-radius: 5px;\">\n",
    "    <h4>Your Task</h4>\n",
    "    <p>The last piece of data you need for your chart is the reference price for each of your AAPL quotes.</p>\n",
    "    <ol>\n",
    "        <li>Create a new empty list called <code>ref_price_data</code>.</li>\n",
    "        <li>You will need to find the reference price that corresponds to each date in your <code>quote_dates</code> list.</li>\n",
    "        <li>Loop through your data source (e.g., <code>request_with_prices</code> or <code>market_maker.quoted_trades</code>) to find the <code>ref_price</code> for each AAPL quote and append it to your new list.</li>\n",
    "    </ol>\n",
    "</div>\n",
    "\n",
    "<div style=\"background-color: #F8F9F9; border: 1px solid #DEE2E6; padding: 10px; margin-top: 15px; border-radius: 5px; width:fit-content;\">\n",
    "💡 <b>Check your work:</b> The new <code>ref_price_data</code> list must have the same length as your other lists.\n",
    "</div>"
   ]
  },
  {
   "cell_type": "code",
   "execution_count": 133,
   "metadata": {
    "deletable": false,
    "nbgrader": {
     "cell_type": "code",
     "checksum": "f7a241dde57306d8045febae16b251ec",
     "grade": false,
     "grade_id": "cell-2bd8af9c8806005a",
     "locked": false,
     "schema_version": 3,
     "solution": true,
     "task": false
    }
   },
   "outputs": [],
   "source": [
    "# Replace the ? in this task with your answer.\n",
    "\n",
    "ref_data = []\n",
    "ref_dates = []\n",
    "\n",
    "#for price in prices: # Iterate through the quotes to find each AAPL ticker and matching price data.\n",
    "    # Add filtering to ensure we find AAPL trades and all trades upto the last quote_dates.\n",
    "    # Append the ref_data and ref_dates\n",
    "    # Insert your answer code here\n",
    "for matched in request_with_prices:\n",
    "    ticker = matched[0][0]\n",
    "    if ticker == \"AAPL\":\n",
    "        ref_price_data = matched[1]\n",
    "        ref_date = matched[0][1]\n",
    "        ref_data.append(ref_price_data)\n",
    "        ref_dates.append(ref_date)"
   ]
  },
  {
   "cell_type": "markdown",
   "metadata": {
    "deletable": false,
    "editable": false,
    "nbgrader": {
     "cell_type": "markdown",
     "checksum": "0b10f60d4f5534954b5e1f9efcf15c48",
     "grade": false,
     "grade_id": "cell-21a63db85ddbd711",
     "locked": true,
     "schema_version": 3,
     "solution": false,
     "task": false
    }
   },
   "source": [
    "<div style=\"background-color: #D4EDDA; border-left: 6px solid #28A745; padding: 15px; margin-bottom: 15px; border-radius: 5px;\">\n",
    "    <h4>Output Check</h4>\n",
    "    <p>Run the cell below to verify your lists before plotting.</p>\n",
    "    <p>Confirm that your new <code>ref_price_data</code> list has the <b>same length</b> as the <code>quote_dates</code>, <code>bid_data</code>, and <code>offer_data</code> lists. If all lengths match, you are ready to create your graph!</p>\n",
    "</div>"
   ]
  },
  {
   "cell_type": "code",
   "execution_count": 134,
   "metadata": {
    "deletable": false,
    "editable": false,
    "nbgrader": {
     "cell_type": "code",
     "checksum": "745ddc4e07977b3dba8c5b4839f74154",
     "grade": false,
     "grade_id": "cell-5beac75cf6de3b71",
     "locked": true,
     "schema_version": 3,
     "solution": false,
     "task": false
    }
   },
   "outputs": [
    {
     "name": "stdout",
     "output_type": "stream",
     "text": [
      "ref_data: [74.63, 73.13, 73.83, 76.56]\n",
      "ref_dates: [10000, 105000, 110000, 120000]\n"
     ]
    }
   ],
   "source": [
    "print(\"ref_data:\", ref_data)\n",
    "print(\"ref_dates:\", ref_dates)"
   ]
  },
  {
   "cell_type": "markdown",
   "metadata": {
    "deletable": false,
    "editable": false,
    "nbgrader": {
     "cell_type": "markdown",
     "checksum": "4d3d20625247f416f7512670cf92ffb6",
     "grade": false,
     "grade_id": "cell-b29e85da25279043",
     "locked": true,
     "schema_version": 3,
     "solution": false,
     "task": false
    }
   },
   "source": [
    "<div style=\"background-color: #E7F3FE; border-left: 6px solid #2196F3; padding: 15px; margin-bottom: 15px; border-radius: 5px;\">\n",
    "    <h4>Your Task</h4>\n",
    "    <p>All your data is now prepared. It's time to create the final visualization.</p>\n",
    "    <ol>\n",
    "        <li>Use <code>axes.plot()</code> to plot your <strong>bid</strong>, <strong>offer</strong>, and <strong>reference price</strong> data against your <strong>date</strong> data.</li>\n",
    "        <li>Customize your chart with a title, axis labels (e.g., 'Date', 'Price'), and a legend to make it clear and professional.</li>\n",
    "    </ol>\n",
    "</div>"
   ]
  },
  {
   "cell_type": "code",
   "execution_count": 135,
   "metadata": {
    "deletable": false,
    "nbgrader": {
     "cell_type": "code",
     "checksum": "9c1d6e99f344ca64ba613bc2d85b7a1c",
     "grade": false,
     "grade_id": "cell-a497c155f275b2bc",
     "locked": false,
     "schema_version": 3,
     "solution": true,
     "task": false
    }
   },
   "outputs": [
    {
     "data": {
      "image/png": "[encoded data removed]",
      "text/plain": [
       "<Figure size 640x480 with 1 Axes>"
      ]
     },
     "metadata": {},
     "output_type": "display_data"
    }
   ],
   "source": [
    "axes = plt.subplot() # Creates the Axis.\n",
    "\n",
    "axes.plot(quote_dates, bid_data, label='Bid Price', color='blue', linestyle='--') # Plot the X and Y axis using the quote_dates and bid_data.\n",
    "\n",
    "# Plot the refData and offerData next\n",
    "# Insert your answer code here\n",
    "axes.plot(quote_dates, offer_data, label='Offer Price', color='red', linestyle='--')\n",
    "axes.plot(quote_dates, ref_data, label='Reference Price', color='black', linewidth=2)\n",
    "\n",
    "axes.set_title(\"AAPL Quote Visualization\")\n",
    "axes.set_xlabel(\"Date\")\n",
    "axes.set_ylabel(\"Price\")\n",
    "axes.legend()\n",
    "plt.show()"
   ]
  },
  {
   "cell_type": "markdown",
   "metadata": {
    "deletable": false,
    "editable": false,
    "nbgrader": {
     "cell_type": "markdown",
     "checksum": "a535734cc9ea2a01d2d5a2ebc8581d0b",
     "grade": false,
     "grade_id": "cell-7851b7dd3470c340",
     "locked": true,
     "schema_version": 3,
     "solution": false,
     "task": false
    }
   },
   "source": [
    "<div style=\"background-color: #f8f9fa; border: 1px solid #dee2e6; padding: 15px; margin-bottom: 15px; border-radius: 5px;\">\n",
    "    <h4>For Grading Purposes Only</h4>\n",
    "    <p>You don't need to change anything in the cell below. It's used to check your work automatically. Please run it without making any changes.</p>\n",
    "</div>"
   ]
  },
  {
   "cell_type": "code",
   "execution_count": 136,
   "metadata": {
    "deletable": false,
    "editable": false,
    "nbgrader": {
     "cell_type": "code",
     "checksum": "79fbcc607e0b2782287e12b1d934a19c",
     "grade": true,
     "grade_id": "cell-48a06ca8c2b89114",
     "locked": true,
     "points": 1,
     "schema_version": 3,
     "solution": false,
     "task": false
    }
   },
   "outputs": [],
   "source": [
    "# GRADING CELL"
   ]
  },
  {
   "cell_type": "markdown",
   "metadata": {
    "deletable": false,
    "editable": false,
    "nbgrader": {
     "cell_type": "markdown",
     "checksum": "8388c64a49923df95d5e6d54366d5b41",
     "grade": false,
     "grade_id": "986049254f29a0411",
     "locked": true,
     "schema_version": 3,
     "solution": false,
     "task": false
    }
   },
   "source": [
    "<img src=\"https://algo-assets.amplifyme.com/quant/millenium/Millenium_Quant_C2.png\" width=\"100%\"/>"
   ]
  },
  {
   "cell_type": "markdown",
   "metadata": {
    "deletable": false,
    "editable": false,
    "nbgrader": {
     "cell_type": "markdown",
     "checksum": "178b163e562b703dcaec248713d1b25e",
     "grade": false,
     "grade_id": "cell-e6f6cd0513742a1f",
     "locked": true,
     "schema_version": 3,
     "solution": false,
     "task": false
    }
   },
   "source": [
    "## **Challenge 2: Price Skewing & Risk Management**\n",
    "\n",
    "In this challenge, you'll build on the foundation of Challenge 1 by adding a new layer of real-world complexity: **price skewing**. In practice, a market maker doesn't always quote prices symmetrically around a reference price. Instead, they adjust their quotes to manage the risk of their current inventory.\n",
    "\n",
    "<div style=\"background-color: #E7F3FE; border-left: 6px solid #2196F3; padding: 15px; margin-bottom: 15px; border-radius: 5px;\">\n",
    "    <h4>The Logic of Skewing</h4>\n",
    "    <p>The goal of skewing is to influence which side of your quote a client is more likely to take, helping you manage your risk.</p>\n",
    "    <ul>\n",
    "        <li>If you are <strong>long</strong> an asset (you own too much), you want to encourage clients to <strong>buy</strong> from you. You make your prices lower to attract buyers.</li>\n",
    "        <li>If you are <strong>short</strong> an asset (you owe it), you want to encourage clients to <strong>sell</strong> to you. You make your prices higher to attract sellers.</li>\n",
    "    </ul>\n",
    "</div>\n",
    "\n",
    "<div style=\"background-color: #F8F9F9; border: 1px solid #DEE2E6; padding: 15px; margin-bottom: 15px; border-radius: 5px;\">\n",
    "    <h4>For Example:</h4>\n",
    "    <p>If the reference price for Apple is <strong>\\$100</strong>:</p>\n",
    "     <ul>\n",
    "        <li><strong>When Long (you want to sell):</strong> Your quote might be <strong>Bid \\$95 – \\$101 Offer</strong>. Both prices are shifted down to make selling more likely.</li>\n",
    "        <li><strong>When Short (you want to buy):</strong> Your quote might be <strong>Bid \\$99 – \\$105 Offer</strong>. Both prices are shifted up to make buying more likely.</li>\n",
    "    </ul>\n",
    "</div>\n",
    "\n",
    "Let's add this layer of complexity to our code. First, we'll import the necessary packages."
   ]
  },
  {
   "cell_type": "code",
   "execution_count": 137,
   "metadata": {
    "deletable": false,
    "editable": false,
    "nbgrader": {
     "cell_type": "code",
     "checksum": "3e44fa86a8c94b6dc07ce687431b4fd8",
     "grade": false,
     "grade_id": "cell-4a7a0335193cf40g",
     "locked": true,
     "schema_version": 3,
     "solution": false,
     "task": false
    }
   },
   "outputs": [],
   "source": [
    "# The code in this cell is used to import the packages to be used throughout this notebook.\n",
    "# The following are private packages available only during this simulation:\n",
    "from AmplifyQuantTrading import Data\n",
    "from AmplifyQuantTrading import Exchange\n",
    "from AmplifyQuantTrading import MarketMaker\n",
    "from AmplifyQuantTrading import HedgeFund as hf\n",
    "# The following are publicly available packages:\n",
    "from matplotlib import pyplot as plt\n",
    "from pandas import *"
   ]
  },
  {
   "cell_type": "code",
   "execution_count": 112,
   "metadata": {
    "deletable": false,
    "editable": false,
    "nbgrader": {
     "cell_type": "code",
     "checksum": "5a2e189f965728d8c9cb13c7bd7cff8e",
     "grade": true,
     "grade_id": "cell-02b2e2768f217103",
     "locked": true,
     "points": 0,
     "schema_version": 3,
     "solution": false,
     "task": false
    }
   },
   "outputs": [],
   "source": [
    "# HIDDEN PARAMS BOX"
   ]
  },
  {
   "cell_type": "markdown",
   "metadata": {
    "deletable": false,
    "editable": false,
    "nbgrader": {
     "cell_type": "markdown",
     "checksum": "47871c23f131360ae5376d6773db578f",
     "grade": false,
     "grade_id": "cell-6df383c38556f758",
     "locked": true,
     "schema_version": 3,
     "solution": false,
     "task": false
    }
   },
   "source": [
    "## Initial Setup of Classes\n",
    "<hr>\n",
    "\n",
    "Before we begin, let's define the core data structures we'll use to represent our trades.\n",
    "\n",
    "<div style=\"background-color: #F8F9F9; border: 1px solid #DEE2E6; padding: 15px; margin-bottom: 15px; border-radius: 5px;\">\n",
    "    <h4>Class Blueprint: `QuotedTrade`</h4>\n",
    "    <p>This class acts as a container for every quote you send to a client. It must have the following attributes:</p>\n",
    "    <ul>\n",
    "        <li><code>ticker</code>: String</li>\n",
    "        <li><code>trade_volume</code>: Integer</li>\n",
    "        <li><code>ref_price</code>: Float</li>\n",
    "        <li><code>bid_price</code>: Float</li>\n",
    "        <li><code>offer_price</code>: Float</li>\n",
    "        <li><code>date</code>: Integer</li>\n",
    "    </ul>\n",
    "</div>\n",
    "\n",
    "<div style=\"background-color: #F8F9F9; border: 1px solid #DEE2E6; padding: 15px; margin-bottom: 15px; border-radius: 5px;\">\n",
    "    <h4>Class Blueprint: `CompletedTrade`</h4>\n",
    "    <p>This class is used to log the details of a successful trade after a client accepts your quote. It must have the following attributes:</p>\n",
    "    <ul>\n",
    "        <li><code>ticker</code>: String</li>\n",
    "        <li><code>trade_volume</code>: Integer</li>\n",
    "        <li><code>trade_price</code>: Float</li>\n",
    "        <li><code>mm_action</code>: String ('Buy' or 'Sell')</li>\n",
    "        <li><code>date</code>: Integer</li>\n",
    "    </ul>\n",
    "</div>\n",
    "\n",
    "<div style=\"background-color: #E7F3FE; border-left: 6px solid #2196F3; padding: 15px; margin-bottom: 15px; border-radius: 5px;\">\n",
    "<h4>Your Task</h4>\n",
    "<p>In the code cell below, define both the <code>QuotedTrade</code> and <code>CompletedTrade</code> classes. Each class should have an <code>__init__</code> method that sets the attributes listed in its blueprint.</p>\n",
    "</div>"
   ]
  },
  {
   "cell_type": "code",
   "execution_count": 113,
   "metadata": {
    "deletable": false,
    "editable": false,
    "nbgrader": {
     "cell_type": "code",
     "checksum": "170571999064ce7a144c469052834f33",
     "grade": false,
     "grade_id": "cell-9e4f3064b95b199a",
     "locked": true,
     "schema_version": 3,
     "solution": false,
     "task": false
    }
   },
   "outputs": [],
   "source": [
    "class QuotedTrade:\n",
    "    def __init__(self, ticker, trade_volume, ref_price, bid_price, offer_price, date):\n",
    "        self.ticker = ticker\n",
    "        self.trade_volume = trade_volume\n",
    "        self.ref_price = ref_price\n",
    "        self.bid_price = bid_price\n",
    "        self.offer_price = offer_price\n",
    "        self.date = date\n",
    "        \n",
    "class CompletedTrade:\n",
    "    def __init__(self, ticker, trade_volume, trade_price, mm_action, ref_price, bid_price, offer_price, date):\n",
    "        self.ticker = ticker\n",
    "        self.trade_volume = trade_volume\n",
    "        self.trade_price = trade_price\n",
    "        self.mm_action = mm_action\n",
    "        self.ref_price = ref_price\n",
    "        self.bid_price = bid_price\n",
    "        self.offer_price = offer_price\n",
    "        self.date = date "
   ]
  },
  {
   "cell_type": "markdown",
   "metadata": {
    "deletable": false,
    "editable": false,
    "nbgrader": {
     "cell_type": "markdown",
     "checksum": "11d532b1ba854591f3359e8cd877954c",
     "grade": false,
     "grade_id": "cell-a10b92c6347298d3",
     "locked": true,
     "schema_version": 3,
     "solution": false,
     "task": false
    }
   },
   "source": [
    "### **Challenge 2 - Task A: Implement a Risk-Based Skewing Algorithm**\n",
    "\n",
    "This task combines everything you've learned into a single, complete algorithm. You will process all incoming price requests, but this time, you'll skew your quotes based on your current inventory risk before sending them to the client and logging the results.\n",
    "\n",
    "<div style=\"background-color: #F8F9F9; border: 1px solid #DEE2E6; padding: 15px; margin-bottom: 15px; border-radius: 5px;\">\n",
    "    <h4>Key Functions for this Task</h4>\n",
    "    <p>You will need to use the following methods from your objects:</p>\n",
    "    <p><b>Market Maker (`market_maker`):</b></p>\n",
    "    <ul>\n",
    "        <li><code>.current_positions</code>: To check your inventory for a given ticker.</li>\n",
    "        <li><code>.add_quoted_trade()</code>: To log every quote you create.</li>\n",
    "        <li><code>.add_trade()</code>: To log every completed trade and update your positions.</li>\n",
    "    </ul>\n",
    "    <p><b>Hedge Fund (`hf`):</b></p>\n",
    "    <ul>\n",
    "        <li><code>.show()</code>: To send your quote to the client and get their response.</li>\n",
    "    </ul>\n",
    "</div>\n",
    "\n",
    "<div style=\"background-color: #FFF3CD; border-left: 6px solid #FFC107; padding: 15px; margin-bottom: 15px; border-radius: 5px;\">\n",
    "    <h4>Remember to Log Everything!</h4>\n",
    "    <p>A key part of risk management is maintaining a complete audit trail. For every request, you must log both the initial quote and the final completed trade (if it's not refused). Failure to do so will result in risk penalties.</p>\n",
    "</div>\n",
    "\n",
    "<div style=\"background-color: #E7F3FE; border-left: 6px solid #2196F3; padding: 15px; margin-bottom: 15px; border-radius: 5px;\">\n",
    "<h4>Your Task</h4>\n",
    "<p>Your goal is to create a single loop that processes every item in the <code>price_requests</code> list. For each request, you must perform the following steps in order:</p>\n",
    "<ol>\n",
    "    <li><strong>Check Your Risk:</strong> Before calculating a price, check your current position for that ticker in <code>market_maker.current_positions</code>.</li>\n",
    "    <li><strong>Calculate Skewed Prices:</strong> Based on your position (long, short, or neutral), calculate the skewed bid and offer prices.</li>\n",
    "    <li><strong>Create a Quote:</strong> Instantiate a <code>QuotedTrade</code> object with your skewed prices.</li>\n",
    "    <li><strong>Log the Quote:</strong> Add the new <code>QuotedTrade</code> object to your logs using <code>market_maker.add_quoted_trade()</code>.</li>\n",
    "    <li><strong>Show Quote to Client:</strong> Send your quote to the client using <code>hf.show()</code> to get their decision.</li>\n",
    "    <li><strong>Process the Response:</strong> Check the <code>HfResponse</code>. If the trade was <strong>not 'Refuse'd</strong>:\n",
    "        <ol type=\"a\" style=\"margin-left: 20px;\">\n",
    "            <li>Create an instance of your <code>CompletedTrade</code> class.</li>\n",
    "            <li>Log the successful transaction using <code>market_maker.add_trade()</code>.</li>\n",
    "        </ol>\n",
    "    </li>\n",
    "</ol>\n",
    "</div>"
   ]
  },
  {
   "cell_type": "code",
   "execution_count": 114,
   "metadata": {
    "deletable": false,
    "editable": false,
    "nbgrader": {
     "cell_type": "code",
     "checksum": "36b614d75465c651f006f078a57aeb41",
     "grade": false,
     "grade_id": "cell-4cdb572ee805ed6e",
     "locked": true,
     "schema_version": 3,
     "solution": false,
     "task": false
    }
   },
   "outputs": [],
   "source": [
    "# The code below creates the MarketMaker Object\n",
    "mm = MarketMaker.mm()\n",
    "# The code below will assign the prices data series and price_requests data series to the two variables.\n",
    "prices = Data.get_price_series(\"PricestoFeedserverExtended\")\n",
    "price_requests = Data.get_price_requests(\"PriceRequeststoFeedserverExtended\")"
   ]
  },
  {
   "cell_type": "code",
   "execution_count": 138,
   "metadata": {
    "deletable": false,
    "nbgrader": {
     "cell_type": "code",
     "checksum": "3f8eefbe83b13db38456d721c3183507",
     "grade": false,
     "grade_id": "cell-d54961d5b5548141",
     "locked": false,
     "schema_version": 3,
     "solution": true,
     "task": false
    }
   },
   "outputs": [
    {
     "data": {
      "text/plain": [
       "{'FAANG': CurrentPosition(ticker=FAANG, position_volume=0, open_price=0, date=0),\n",
       " 'FB': CurrentPosition(ticker=FB, position_volume=-7012, open_price=197.56, date=150000),\n",
       " 'AAPL': CurrentPosition(ticker=AAPL, position_volume=-1478, open_price=75.31, date=120000),\n",
       " 'AMZN': CurrentPosition(ticker=AMZN, position_volume=0, open_price=0, date=0),\n",
       " 'NFLX': CurrentPosition(ticker=NFLX, position_volume=0, open_price=0, date=0),\n",
       " 'GOOGL': CurrentPosition(ticker=GOOGL, position_volume=0, open_price=0, date=0)}"
      ]
     },
     "execution_count": 138,
     "metadata": {},
     "output_type": "execute_result"
    }
   ],
   "source": [
    "# Insert your answer code here\n",
    "test_requests = []\n",
    "for index in range(0,10):\n",
    "    test_requests.append(price_requests[index])\n",
    "\n",
    "\n",
    "request_with_prices = []\n",
    "for price in prices:\n",
    "    for request in test_requests:\n",
    "        if request[0] == price[0] and request[1] == price[1]:\n",
    "            reference_price = price[2]\n",
    "            request_with_prices.append((request, reference_price))\n",
    "\n",
    "skewed_quoted_trades = []\n",
    "for matched in request_with_prices:\n",
    "    for ticker, pos in mm.current_positions.items():\n",
    "        if pos.position \n",
    "\n"
   ]
  },
  {
   "cell_type": "code",
   "execution_count": 139,
   "metadata": {
    "deletable": false,
    "editable": false,
    "nbgrader": {
     "cell_type": "code",
     "checksum": "e0b312313738ac4dc35d4d904f0799d5",
     "grade": true,
     "grade_id": "cell-7b49a3c2a6956eab",
     "locked": true,
     "points": 1,
     "schema_version": 3,
     "solution": false,
     "task": false
    }
   },
   "outputs": [],
   "source": [
    "# GRADING CELL"
   ]
  },
  {
   "cell_type": "markdown",
   "metadata": {
    "deletable": false,
    "editable": false,
    "nbgrader": {
     "cell_type": "markdown",
     "checksum": "ff1115e0eee0d47914833016efc26940",
     "grade": false,
     "grade_id": "cell-200fbeedcf2a5d71",
     "locked": true,
     "schema_version": 3,
     "solution": false,
     "task": false
    }
   },
   "source": [
    "## **Challenge 2 - Task B: Visualize Your Skewed Quotes**\n",
    "The final task is to visualize your new pricing logic. By plotting your skewed quotes, you can clearly see how your algorithm adjusted its prices based on its trading risk throughout the simulation.\n",
    "\n",
    "<div style=\"background-color: #FFF3CD; border-left: 6px solid #FFC107; padding: 15px; margin-bottom: 15px; border-radius: 5px;\">\n",
    "    <h4>Chart Requirements</h4>\n",
    "    <p>Your plot should show the relationship between your quotes and the market price for a single asset.</p>\n",
    "    <ul>\n",
    "        <li><strong>Ticker:</strong> Choose <strong>one ticker</strong> from your logs to visualize (e.g., 'AAPL').</li>\n",
    "        <li><strong>Data Source:</strong> Use the final <code>market_maker.quoted_trades</code> list.</li>\n",
    "        <li><strong>X-axis:</strong> Date</li>\n",
    "        <li><strong>Y-axis:</strong> Bid Price, Offer Price, and Reference Price.</li>\n",
    "    </ul>\n",
    "</div>\n",
    "\n",
    "<div style=\"background-color: #E7F3FE; border-left: 6px solid #2196F3; padding: 15px; margin-bottom: 15px; border-radius: 5px;\">\n",
    "<h4>Your Task</h4>\n",
    "<p>You can reuse most of your plotting code from Challenge 1. Follow these steps:</p>\n",
    "<ol>\n",
    "    <li><strong>Choose a Ticker:</strong> Pick one asset you traded to focus your analysis on.</li>\n",
    "    <li><strong>Filter the Data:</strong> Create new lists for dates and prices by looping through your <code>market_maker.quoted_trades</code> log and selecting only the data for your chosen ticker.</li>\n",
    "    <li><strong>Initialize and Plot:</strong> Use <code>plt.subplots()</code> to create your axes and <code>axes.plot()</code> to draw the three price series.</li>\n",
    "    <li><strong>Add Labels:</strong> Complete your chart with a title (mentioning the ticker), axis labels, and a legend to make it readable.</li>\n",
    "</ol>\n",
    "</div>"
   ]
  },
  {
   "cell_type": "code",
   "execution_count": 121,
   "metadata": {
    "deletable": false,
    "nbgrader": {
     "cell_type": "code",
     "checksum": "116b950e8e42bbc289f7073f0b1b0a9d",
     "grade": false,
     "grade_id": "cell-94618ea7fe2d603b",
     "locked": false,
     "schema_version": 3,
     "solution": true,
     "task": false
    }
   },
   "outputs": [],
   "source": [
    "# Insert your answer code here"
   ]
  },
  {
   "cell_type": "markdown",
   "metadata": {
    "deletable": false,
    "editable": false,
    "nbgrader": {
     "cell_type": "markdown",
     "checksum": "434d8a95c94657caad88ae7a9c7669b2",
     "grade": false,
     "grade_id": "cell-14a928e807244ec5",
     "locked": true,
     "schema_version": 3,
     "solution": false,
     "task": false
    }
   },
   "source": [
    "<img src=\"https://algo-assets.amplifyme.com/quant/millenium/Millenium_Quant_C3_Prelim.png\" width=\"100%\"/>"
   ]
  },
  {
   "cell_type": "markdown",
   "metadata": {
    "deletable": false,
    "editable": false,
    "nbgrader": {
     "cell_type": "markdown",
     "checksum": "d2102978f10447207f0fffaac622a1da",
     "grade": false,
     "grade_id": "cell-9d02e3a9d3423feg",
     "locked": true,
     "schema_version": 3,
     "solution": false,
     "task": false
    }
   },
   "source": [
    "## Beta Research & Hedging Strategy\n",
    "<hr>\n",
    "\n",
    "Welcome to the research section. In this part of the assessment, your goal is to calculate the **beta** of five individual stocks relative to a FAANG ETF. Beta is a fundamental measure of a stock's volatility in relation to the broader market. The values you calculate here will be essential for building an optimized hedging strategy in Challenge 3.\n",
    "\n",
    "<div style=\"background-color: #FFF3CD; border-left: 6px solid #FFC107; padding: 15px; margin-bottom: 15px; border-radius: 5px;\">\n",
    "    <h4>Understanding Beta (β)</h4>\n",
    "    <p>Beta tells you how much an asset's price is expected to move when the overall market moves.</p>\n",
    "    <ul>\n",
    "        <li>A beta of <strong>1</strong> means the stock tends to move in line with the market.</li>\n",
    "        <li>A beta <strong>greater than 1</strong> means the stock is more volatile than the market.</li>\n",
    "        <li>A beta <strong>less than 1</strong> means the stock is less volatile than the market.</li>\n",
    "    </ul>\n",
    "</div>\n",
    "\n",
    "<div style=\"background-color: #F8F9F9; border: 1px solid #DEE2E6; padding: 15px; margin-bottom: 15px; border-radius: 5px;\">\n",
    "    <h4>Formula for Beta</h4>\n",
    "    <p>To find the beta of a stock, you'll use the covariance of its returns with the market's returns, divided by the variance of the market's returns.</p>\n",
    "    <p>$$ \\beta_{stock} = \\frac{\\text{Cov}(R_{stock}, R_{market})}{\\text{Var}(R_{market})} $$</p>\n",
    "    <p>Where $R_{stock}$ represents the returns of the individual stock and $R_{market}$ represents the returns of the ETF.</p>\n",
    "</div>\n",
    "\n",
    "<div style=\"background-color: #E7F3FE; border-left: 6px solid #2196F3; padding: 15px; margin-bottom: 15px; border-radius: 5px;\">\n",
    "<h4>Your Task</h4>\n",
    "<p>Your objective is to process historical price data to calculate the daily returns for each of the five stocks and the FAANG ETF. You will then use these returns to calculate a beta value for each individual stock.</p>\n",
    "</div>\n",
    "\n",
    "To start, let's import the packages we will use in this notebook."
   ]
  },
  {
   "cell_type": "code",
   "execution_count": 122,
   "metadata": {
    "deletable": false,
    "editable": false,
    "nbgrader": {
     "cell_type": "code",
     "checksum": "a7c705a164ae55518d8e2ddb1acf0fcc",
     "grade": false,
     "grade_id": "cell-98958cc3340740d8",
     "locked": true,
     "schema_version": 3,
     "solution": false,
     "task": false
    }
   },
   "outputs": [],
   "source": [
    "# The code in this cell is used to import the packages to be used throughout this notebook.\n",
    "# The following are private packages available only during this simulation:\n",
    "from AmplifyQuantTrading import Data\n",
    "# The following are publicly available packages:\n",
    "from matplotlib import pyplot as plt\n",
    "import pandas"
   ]
  },
  {
   "cell_type": "markdown",
   "metadata": {
    "deletable": false,
    "editable": false,
    "nbgrader": {
     "cell_type": "markdown",
     "checksum": "06716f8e80a55089cb3da60af978b6c5",
     "grade": false,
     "grade_id": "cell-c94e93a52ab7f9b3",
     "locked": true,
     "schema_version": 3,
     "solution": false,
     "task": false
    }
   },
   "source": [
    "### **How the FAANG ETF is Calculated**\n",
    "The FAANG ETF is an exchange-traded product composed of five equally-weighted stocks: Facebook, Amazon, Apple, Netflix, and Google.\n",
    "\n",
    "<div style=\"background-color: #F8F9F9; border: 1px solid #DEE2E6; padding: 15px; margin-bottom: 15px; border-radius: 5px;\">\n",
    "    <h4>Calculation Method</h4>\n",
    "    <ol>\n",
    "        <li><strong>Rebasing:</strong> At the start of the price series (t0), each of the 5 stock prices is rebased to a value of \\$100. This means the ETF's starting value is also \\$100.</li>\n",
    "        <li><strong>Daily Changes:</strong> On any subsequent day (t1), the value of each rebased stock component changes from \\$100 by the same percentage that the actual stock's price changed since the start (t0).</li>\n",
    "        <li><strong>Final ETF Value:</strong> The ETF's value on any given day is the simple average of the 5 rebased component prices for that day.</li>\n",
    "    </ol>\n",
    "</div>\n",
    "\n",
    "### **The Problem with a Simple Hedge**\n",
    "In the previous simulation, you hedged your exposure by taking an equal and opposite position in the ETF (e.g., selling \\\\$1m of the ETF when you were long \\\\$1m of a stock). This is called a **nominal hedge**.\n",
    "\n",
    "<div style=\"background-color: #FFF3CD; border-left: 6px solid #FFC107; padding: 15px; margin-bottom: 15px; border-radius: 5px;\">\n",
    "    <h4>The Volatility Mismatch</h4>\n",
    "    <p>A nominal hedge is inaccurate because individual stocks are often more or less volatile than the ETF itself. A 1% move in a single stock is not the same as a 1% move in the ETF.</p>\n",
    "    <p>To create a correct hedge, we must use <strong>Beta (β)</strong> to measure the relative volatility between each stock and the ETF.</p>\n",
    "</div>\n",
    "\n",
    "### **Research Task: Calculate Hedging Ratios**\n",
    "Your goal is to use historical price data to find the precise beta for each stock relative to the ETF. This beta value will be your correct hedging ratio for Challenge 3.\n",
    "\n",
    "<div style=\"background-color: #E7F3FE; border-left: 6px solid #2196F3; padding: 15px; margin-bottom: 15px; border-radius: 5px;\">\n",
    "<h4>Your Task</h4>\n",
    "<ol>\n",
    "    <li>Load the provided 6 months of price data.</li>\n",
    "    <li>Calculate the daily <strong>percentage returns</strong> for each of the 5 stocks and the FAANG ETF.</li>\n",
    "    <li>For each stock, calculate the <strong>covariance</strong> between its returns and the ETF's returns.</li>\n",
    "    <li>Calculate the <strong>variance</strong> of the ETF's returns.</li>\n",
    "    <li>Apply the beta formula ($$\\beta = \\frac{\\text{Covariance}}{\\text{Variance}}$$) to find the precise hedging ratio for each of the 5 stocks.</li>\n",
    "</ol>\n",
    "</div>"
   ]
  },
  {
   "cell_type": "code",
   "execution_count": null,
   "metadata": {
    "deletable": false,
    "editable": false,
    "nbgrader": {
     "cell_type": "code",
     "checksum": "2ecb61ea5a8e50cf4a8e2962cb2c5395",
     "grade": false,
     "grade_id": "cell-a4fdf442506c682b",
     "locked": true,
     "schema_version": 3,
     "solution": false,
     "task": false
    }
   },
   "outputs": [],
   "source": [
    "# The code in this cell assigns the Data.get_price_series(\"PricestoFeedserverEtfUpdate\") to the prices variable.\n",
    "prices = Data.get_price_series(\"PricestoFeedserverEtfUpdate\")"
   ]
  },
  {
   "cell_type": "code",
   "execution_count": null,
   "metadata": {
    "deletable": false,
    "editable": false,
    "nbgrader": {
     "cell_type": "code",
     "checksum": "88b39aec1b612f7ea74e538300806611",
     "grade": false,
     "grade_id": "cell-7270e939fe197bd0",
     "locked": true,
     "schema_version": 3,
     "solution": false,
     "task": false
    }
   },
   "outputs": [],
   "source": [
    "prices_FB = []\n",
    "prices_AAPL = []\n",
    "prices_AMZN = []\n",
    "prices_NFLX =[]\n",
    "prices_GOOGL = []\n",
    "prices_FAANG = []\n",
    "\n",
    "for price in prices:\n",
    "    if price[0] == \"AAPL\":\n",
    "        prices_AAPL.append(price)\n",
    "    elif price[0] == \"FB\":\n",
    "        prices_FB.append(price)\n",
    "    elif price[0] == \"GOOGL\":\n",
    "        prices_GOOGL.append(price)\n",
    "    elif price[0] == \"AMZN\":\n",
    "        prices_AMZN.append(price)\n",
    "    elif price[0] == \"NFLX\":\n",
    "        prices_NFLX.append(price)\n",
    "    elif price[0] == \"FAANG\":\n",
    "        prices_FAANG.append(price)\n",
    "        \n",
    "AAPL_change = pandas.DataFrame(prices_AAPL)[2].pct_change()[1:]\n",
    "FB_change = pandas.DataFrame(prices_FB)[2].pct_change()[1:]\n",
    "GOOGL_change = pandas.DataFrame(prices_GOOGL)[2].pct_change()[1:]\n",
    "AMZN_change = pandas.DataFrame(prices_AMZN)[2].pct_change()[1:]\n",
    "NFLX_change = pandas.DataFrame(prices_NFLX)[2].pct_change()[1:]\n",
    "FAANG_change = pandas.DataFrame(prices_FAANG)[2].pct_change()[1:]"
   ]
  },
  {
   "cell_type": "code",
   "execution_count": null,
   "metadata": {
    "deletable": false,
    "nbgrader": {
     "cell_type": "code",
     "checksum": "2eca2fbedb37d1fdbc2161ab614408c8",
     "grade": false,
     "grade_id": "cell-fc9704bf1de72de9",
     "locked": false,
     "schema_version": 3,
     "solution": true,
     "task": false
    }
   },
   "outputs": [],
   "source": [
    "# Insert your answer code here"
   ]
  },
  {
   "cell_type": "markdown",
   "metadata": {
    "deletable": false,
    "editable": false,
    "nbgrader": {
     "cell_type": "markdown",
     "checksum": "25ff5f7d046db83ffba3f44177e9e08a",
     "grade": false,
     "grade_id": "986049254f29a049",
     "locked": true,
     "schema_version": 3,
     "solution": false,
     "task": false
    }
   },
   "source": [
    "<img src=\"https://algo-assets.amplifyme.com/quant/millenium/Millenium_Quant_C3.png\" width=\"100%\"/>"
   ]
  },
  {
   "cell_type": "markdown",
   "metadata": {
    "deletable": false,
    "editable": false,
    "nbgrader": {
     "cell_type": "markdown",
     "checksum": "363c007bca1b86b8b295c5d91c663835",
     "grade": false,
     "grade_id": "cell-0b64c479a1c8b332",
     "locked": true,
     "schema_version": 3,
     "solution": false,
     "task": false
    }
   },
   "source": [
    "## **Challenge 3: Optimized ETF Hedging**\n",
    "Welcome to the final challenge. You will now upgrade your algorithm from Challenge 2 to perform a more sophisticated, **beta-adjusted hedge**. Instead of a simple $1-for-$1 hedge, you will use the beta values from your research to calculate the precise amount of ETF needed to offset your risk in each stock.\n",
    "\n",
    "<div style=\"background-color: #FFF3CD; border-left: 6px solid #FFC107; padding: 15px; margin-bottom: 15px; border-radius: 5px;\">\n",
    "    <h4>The Beta-Adjusted Hedge</h4>\n",
    "    <p>The core of this challenge is to use beta as your hedging ratio. The formula is simple:</p>\n",
    "    <p style=\"text-align:center; font-size:1.1em; font-family:monospace;\">\n",
    "    Hedge Amount = Equity Risk Amount × Beta\n",
    "    </p>\n",
    "    <p>For example, if you complete a trade that leaves you with a <strong>\\$1,000,000 long</strong> position in AAPL (which has a Beta of 0.833), your optimized hedge is to <strong>sell \\$833,000</strong> of the FAANG ETF.</p>\n",
    "</div>\n",
    "\n",
    "### **New Tools for Hedging**\n",
    "To execute your hedge, you will interact with a simulated exchange. This requires a new object and two new methods.\n",
    "\n",
    "<div style=\"background-color: #F8F9F9; border: 1px solid #DEE2E6; padding: 15px; margin-bottom: 15px; border-radius: 5px;\">\n",
    "    <h4>Class Blueprint: `ExchangeTrade`</h4>\n",
    "    <p>This object is a simple container used to send your ETF hedge order to the exchange.</p>\n",
    "    <ul>\n",
    "        <li><code>ticker</code>: String (e.g., 'FAANG')</li>\n",
    "        <li><code>trade_volume</code>: Integer</li>\n",
    "        <li><code>ref_price</code>: Float</li>\n",
    "        <li><code>action</code>: String ('Buy' or 'Sell')</li>\n",
    "        <li><code>date</code>: Integer</li>\n",
    "    </ul>\n",
    "</div>\n",
    "\n",
    "<div style=\"background-color: #F8F9F9; border: 1px solid #DEE2E6; padding: 15px; margin-bottom: 15px; border-radius: 5px;\">\n",
    "    <h4>⚙️ New Methods for Hedging</h4>\n",
    "    <p><b>1. Execute a Hedge Trade</b></p>\n",
    "    <ul><li><code>Exchange.execute(trade)</code>: Sends your <code>ExchangeTrade</code> object to the market and returns an <code>ExecutedTrade</code> object confirming the transaction.</li></ul>\n",
    "    <p><b>2. Log Your ETF Position</b></p>\n",
    "    <ul><li><code>market_maker.update_ETF_position(executed_trade)</code>: Logs the executed hedge trade to your market maker's internal records.</li></ul>\n",
    "</div>\n",
    "\n",
    "<div style=\"background-color: #E7F3FE; border-left: 6px solid #2196F3; padding: 15px; margin-bottom: 15px; border-radius: 5px;\">\n",
    "    <h4>Data Format: Pandas DataFrame</h4>\n",
    "    <p>For this section, all historical price data is stored in a <strong>Pandas DataFrame</strong>. This is a powerful, table-like structure that makes cleaning, analyzing, and performing calculations on time series data much more efficient.</p>\n",
    "</div>\n",
    "\n",
    "### **Challenge 3 - Task A: Implement the Full Hedging Loop**\n",
    "Your task is to modify your algorithm from Challenge 2 to include the beta-adjusted hedge after every completed trade.\n",
    "\n",
    "<div style=\"background-color: #E7F3FE; border-left: 6px solid #2196F3; padding: 15px; margin-bottom: 15px; border-radius: 5px;\">\n",
    "<h4>Your Task</h4>\n",
    "<p>Copy your code from Challenge 2. Inside your main loop that processes each price request, add the new hedging steps after a trade is successfully completed.</p>\n",
    "<ol>\n",
    "    <li>Process a client request (check risk, skew prices, create and log quote, show to client).</li>\n",
    "    <li>Check the client's response.</li>\n",
    "    <li><strong>If the trade is NOT refused:</strong>\n",
    "        <ol type=\"a\" style=\"margin-left: 20px;\">\n",
    "            <li>Log the completed trade using <code>market_maker.add_trade()</code>.</li>\n",
    "            <li><strong>--- Start New Hedging Logic ---</strong></li>\n",
    "            <li>Calculate the required ETF hedge amount using the stock's <strong>Beta</strong>.</li>\n",
    "            <li>Determine the hedge direction (if you bought the stock, you must sell the ETF, and vice-versa).</li>\n",
    "            <li>Create an <code>ExchangeTrade</code> object for your ETF hedge.</li>\n",
    "            <li>Execute the hedge using <code>Exchange.execute()</code>.</li>\n",
    "            <li>Log the result of your hedge using <code>market_maker.update_ETF_position()</code>.</li>\n",
    "        </ol>\n",
    "    </li>\n",
    "</ol>\n",
    "</div>"
   ]
  },
  {
   "cell_type": "code",
   "execution_count": null,
   "metadata": {
    "deletable": false,
    "editable": false,
    "nbgrader": {
     "cell_type": "code",
     "checksum": "43355caaa8fff066279b63993c9e210a",
     "grade": false,
     "grade_id": "cell-2547dbbb1c77936a",
     "locked": true,
     "schema_version": 3,
     "solution": false,
     "task": false
    }
   },
   "outputs": [],
   "source": [
    "# The code below creates the MarketMaker Object\n",
    "mm = MarketMaker.mm()\n",
    "prices = Data.get_price_series(\"PricestoFeedserverEtfUpdate\", True)\n",
    "price_requests = Data.get_price_requests(\"PriceRequeststoFeedserverExtended\")"
   ]
  },
  {
   "cell_type": "code",
   "execution_count": null,
   "metadata": {
    "deletable": false,
    "editable": false,
    "nbgrader": {
     "cell_type": "code",
     "checksum": "5c6be4646ef517ed212d55b4ca457848",
     "grade": false,
     "grade_id": "cell-5740e0394b19b88d",
     "locked": true,
     "schema_version": 3,
     "solution": false,
     "task": false
    }
   },
   "outputs": [],
   "source": [
    "class ExchangeTrade:\n",
    "    def __init__(self, ticker, trade_volume, ref_price, action, date):\n",
    "        self.ticker = ticker\n",
    "        self.trade_volume = trade_volume\n",
    "        self.ref_price = ref_price\n",
    "        self.action = action\n",
    "        self.date = date"
   ]
  },
  {
   "cell_type": "code",
   "execution_count": null,
   "metadata": {
    "deletable": false,
    "nbgrader": {
     "cell_type": "code",
     "checksum": "8c192809f462313415edf674a9a75dfb",
     "grade": false,
     "grade_id": "cell-a4a558b2b5194642",
     "locked": false,
     "schema_version": 3,
     "solution": true,
     "task": false
    }
   },
   "outputs": [],
   "source": [
    "# Insert your answer code here"
   ]
  },
  {
   "cell_type": "code",
   "execution_count": null,
   "metadata": {
    "deletable": false,
    "editable": false,
    "nbgrader": {
     "cell_type": "code",
     "checksum": "e685973ec5fca57796ef2bf565293df4",
     "grade": true,
     "grade_id": "cell-1b3b13e2787e1be7",
     "locked": true,
     "points": 1,
     "schema_version": 3,
     "solution": false,
     "task": false
    }
   },
   "outputs": [],
   "source": [
    "# GRADING CELL"
   ]
  },
  {
   "cell_type": "markdown",
   "metadata": {
    "deletable": false,
    "editable": false,
    "nbgrader": {
     "cell_type": "markdown",
     "checksum": "25d97866e2f5b6963bd62a6772c1297e",
     "grade": false,
     "grade_id": "cell-fd91340b0f8e082a",
     "locked": true,
     "schema_version": 3,
     "solution": false,
     "task": false
    }
   },
   "source": [
    "## **Challenge 3 - Task B: Visualize Your Total Risk Exposure**\n",
    "For your final analysis, you will create a chart showing the **combined nominal risk** of your entire trading book over time. This graph is crucial as it shows how well your hedging strategy managed to keep your net risk under control. A successful market maker aims to keep this value from growing too large in either a long or short direction.\n",
    "\n",
    "<div style=\"background-color: #FFF3CD; border-left: 6px solid #FFC107; padding: 15px; margin-bottom: 15px; border-radius: 5px;\">\n",
    "    <h4>Chart Requirements</h4>\n",
    "    <p>This plot will track the net value of all open positions over the entire simulation.</p>\n",
    "    <ul>\n",
    "        <li><strong>Data Source:</strong> The balance history, which tracks the total nominal value of your open positions at any given time.</li>\n",
    "        <li><strong>X-axis:</strong> Time / Date</li>\n",
    "        <li><strong>Y-axis:</strong> Combined Nominal Risk Value ($)</li>\n",
    "    </ul>\n",
    "</div>\n",
    "\n",
    "<div style=\"background-color: #E7F3FE; border-left: 6px solid #2196F3; padding: 15px; margin-bottom: 15px; border-radius: 5px;\">\n",
    "<h4>Your Task</h4>\n",
    "<ol>\n",
    "    <li><strong>Extract the Data:</strong> Create lists for time and the corresponding total risk value from the simulation's balance log.</li>\n",
    "    <li><strong>Initialize and Plot:</strong> Use <code>plt.subplots()</code> to create your axes and <code>axes.plot()</code> to draw the risk value over time.</li>\n",
    "    <li><strong>Add Labels and a Zero Line:</strong> Give your chart a clear title (e.g., \"Total Net Position Over Time\") and axis labels. It is highly recommended to add a horizontal line at y=0 to clearly show the moments you are net long (above the line) or net short (below the line).</li>\n",
    "</ol>\n",
    "</div>"
   ]
  },
  {
   "cell_type": "code",
   "execution_count": null,
   "metadata": {
    "deletable": false,
    "nbgrader": {
     "cell_type": "code",
     "checksum": "4ab8ddefdc3ffe16b26e15ffd4258553",
     "grade": false,
     "grade_id": "cell-95ed3c3016595379",
     "locked": false,
     "schema_version": 3,
     "solution": true,
     "task": false
    }
   },
   "outputs": [],
   "source": [
    "# Insert your answer code here"
   ]
  },
  {
   "cell_type": "markdown",
   "metadata": {
    "deletable": false,
    "editable": false,
    "nbgrader": {
     "cell_type": "markdown",
     "checksum": "d327e470e398b5a87c6ff81897e94e4f",
     "grade": false,
     "grade_id": "cell-c200495e480f7650",
     "locked": true,
     "schema_version": 3,
     "solution": false,
     "task": false
    }
   },
   "source": [
    "<img src=\"https://algo-assets.amplifyme.com/quant/millenium/Millenium_Quant_C4_Prelim.png\" width=\"100%\"/>"
   ]
  },
  {
   "cell_type": "markdown",
   "metadata": {
    "deletable": false,
    "editable": false,
    "nbgrader": {
     "cell_type": "markdown",
     "checksum": "cc1eed58cfb2c15f2a36e537ea4cb4c0",
     "grade": false,
     "grade_id": "cell-8966ddd8d7d50243",
     "locked": true,
     "schema_version": 3,
     "solution": false,
     "task": false
    }
   },
   "source": [
    "## **Arbitrage Trading Research**\n",
    "This research section introduces **arbitrage**, a strategy that seeks to profit from temporary price differences between highly correlated assets. Your goal is to find and exploit these price inefficiencies between the real FAANG ETF and its five underlying component stocks.\n",
    "\n",
    "While the ETF should theoretically mirror the average price changes of its components, market friction can cause them to diverge. Your challenge is to build an algorithm that can spot these moments and capitalize on them.\n",
    "\n",
    "<hr>\n",
    "\n",
    "<div style=\"background-color: #FFF3CD; border-left: 6px solid #FFC107; padding: 15px; margin-bottom: 15px; border-radius: 5px;\">\n",
    "    <h4>The Arbitrage Strategy</h4>\n",
    "    <p>The core of this strategy is to compare the price of the actual ETF with a \"fair value\" that you calculate yourself.</p>\n",
    "    <ul>\n",
    "        <li><strong>Real ETF:</strong> The traded price of the FAANG ETF from the dataset.</li>\n",
    "        <li><strong>Synthetic ETF:</strong> A \"fair value\" you calculate by taking the average of the 5 individual stock price movements.</li>\n",
    "    </ul>\n",
    "    <p>The trading logic is based on which one is cheaper:</p>\n",
    "    <ul>\n",
    "        <li>If <strong>Real ETF < Synthetic ETF</strong> → Buy the cheap Real ETF and sell the expensive components.</li>\n",
    "        <li>If <strong>Real ETF > Synthetic ETF</strong> → Sell the expensive Real ETF and buy the cheap components.</li>\n",
    "    </ul>\n",
    "    <p>Profit is realized when the two prices converge back to their fair relationship.</p>\n",
    "</div>\n",
    "\n",
    "<hr>\n",
    "\n",
    "## **Research Task: Identify Arbitrage Opportunities**\n",
    "Your task is to analyze 6 months of historical price data to build a model that flags potential arbitrage trades.\n",
    "\n",
    "<div style=\"background-color: #E7F3FE; border-left: 6px solid #2196F3; padding: 15px; margin-bottom: 15px; border-radius: 5px;\">\n",
    "<h4>Your Task</h4>\n",
    "<ol>\n",
    "    <li>Load the provided price data into a Pandas DataFrame.</li>\n",
    "    <li>Calculate the value of the <strong>Synthetic ETF</strong> for each day based on the average price movements of the 5 component stocks.</li>\n",
    "    <li>Create a new column or series representing the <strong>spread</strong> (i.e., the difference) between the Real ETF and your Synthetic ETF.</li>\n",
    "    <li>Identify the points in time where this spread is significantly different from zero. These are your potential arbitrage opportunities.</li>\n",
    "</ol>\n",
    "</div>"
   ]
  },
  {
   "cell_type": "code",
   "execution_count": null,
   "metadata": {
    "deletable": false,
    "editable": false,
    "nbgrader": {
     "cell_type": "code",
     "checksum": "7005a6bba8720461be8b756ff9ca691c",
     "grade": false,
     "grade_id": "cell-a840c3109e411c9e",
     "locked": true,
     "schema_version": 3,
     "solution": false,
     "task": false
    }
   },
   "outputs": [],
   "source": [
    "# The code in this cell assigns the Data.get_price_series(\"PricestoFeedserverEtfUpdate\") to the prices variable.\n",
    "prices = Data.get_price_series(\"PricestoFeedserverEtfUpdate\")"
   ]
  },
  {
   "cell_type": "code",
   "execution_count": null,
   "metadata": {
    "deletable": false,
    "editable": false,
    "nbgrader": {
     "cell_type": "code",
     "checksum": "a9da2046a76b5f1d07f01224d9fa59de",
     "grade": false,
     "grade_id": "cell-b82ee1ed300ea4b5",
     "locked": true,
     "schema_version": 3,
     "solution": false,
     "task": false
    }
   },
   "outputs": [],
   "source": [
    "prices_FB = []\n",
    "prices_AAPL = []\n",
    "prices_AMZN = []\n",
    "prices_NFLX =[]\n",
    "prices_GOOGL = []\n",
    "prices_FAANG = []\n",
    "\n",
    "for price in prices:\n",
    "    if price[0] == \"AAPL\":\n",
    "        prices_AAPL.append(price)\n",
    "    elif price[0] == \"FB\":\n",
    "        prices_FB.append(price)\n",
    "    elif price[0] == \"GOOGL\":\n",
    "        prices_GOOGL.append(price)\n",
    "    elif price[0] == \"AMZN\":\n",
    "        prices_AMZN.append(price)\n",
    "    elif price[0] == \"NFLX\":\n",
    "        prices_NFLX.append(price)\n",
    "    elif price[0] == \"FAANG\":\n",
    "        prices_FAANG.append(price)\n",
    "\n",
    "FB_df = pandas.DataFrame(prices_FB)[2]\n",
    "AAPL_df = pandas.DataFrame(prices_AAPL)[2]\n",
    "AMZN_df = pandas.DataFrame(prices_AMZN)[2]\n",
    "NFLX_df = pandas.DataFrame(prices_NFLX)[2]\n",
    "GOOGL_df = pandas.DataFrame(prices_GOOGL)[2]\n",
    "FAANG_df = pandas.DataFrame(prices_FAANG)[2]"
   ]
  },
  {
   "cell_type": "code",
   "execution_count": null,
   "metadata": {
    "deletable": false,
    "nbgrader": {
     "cell_type": "code",
     "checksum": "3da0f394025f200cc6f6a27a022abf42",
     "grade": false,
     "grade_id": "cell-d54961d5b5548149",
     "locked": false,
     "schema_version": 3,
     "solution": true,
     "task": false
    }
   },
   "outputs": [],
   "source": [
    "# Insert your answer code here"
   ]
  },
  {
   "cell_type": "markdown",
   "metadata": {
    "deletable": false,
    "editable": false,
    "nbgrader": {
     "cell_type": "markdown",
     "checksum": "c35af22b4eeb2885121bf189be020e02",
     "grade": false,
     "grade_id": "cell-200fbeedcf2a5d70",
     "locked": true,
     "schema_version": 3,
     "solution": false,
     "task": false
    }
   },
   "source": [
    "<div style=\"background-color: #E7F3FE; border-left: 6px solid #2196F3; padding: 15px; margin-bottom: 15px; border-radius: 5px;\">\n",
    "    <h4>Visualize Your Findings</h4>\n",
    "    <p>This space is for you to create graphs that showcase your research findings. A strong visual is the best way to prove you have identified a real arbitrage opportunity.</p>\n",
    "    <p><strong>Suggestions for your plot:</strong></p>\n",
    "    <ul>\n",
    "        <li>Plot the price of the <strong>Real ETF</strong> and your <strong>Synthetic ETF</strong> on the same chart to visually identify the divergences.</li>\n",
    "        <li>In a separate subplot below, plot the <strong>spread</strong> (the difference between the two) over time. This makes it easy to see exactly when and by how much the prices have diverged from fair value.</li>\n",
    "    </ul>\n",
    "</div>"
   ]
  },
  {
   "cell_type": "code",
   "execution_count": null,
   "metadata": {
    "deletable": false,
    "nbgrader": {
     "cell_type": "code",
     "checksum": "ff0799eb5302584d085f4726b5252e44",
     "grade": false,
     "grade_id": "cell-94618ea7fe2d603a",
     "locked": false,
     "schema_version": 3,
     "solution": true,
     "task": false
    }
   },
   "outputs": [],
   "source": [
    "# Insert your answer code here"
   ]
  },
  {
   "cell_type": "markdown",
   "metadata": {
    "deletable": false,
    "editable": false,
    "nbgrader": {
     "cell_type": "markdown",
     "checksum": "e0635abd465977831223adbb06676585",
     "grade": false,
     "grade_id": "cell-1e7e82f30d1f30fa",
     "locked": true,
     "schema_version": 3,
     "solution": false,
     "task": false
    },
    "pycharm": {
     "name": "#%% md\n"
    }
   },
   "source": [
    "<img src=\"https://algo-assets.amplifyme.com/quant/millenium/Millenium_Quant_C4.png\" width=\"100%\"/>\n",
    "\n",
    "## **Challenge 4: Arbitrage Trading**\n",
    "Welcome to the final challenge, which introduces **arbitrage**: a strategy that exploits temporary price differences between highly correlated assets. Your goal is to find and capitalize on these inefficiencies between the real FAANG ETF and its five underlying component stocks.\n",
    "\n",
    "While the ETF should theoretically mirror its components, market friction can cause them to diverge. You will build an algorithm that detects these moments and executes trades to profit from the eventual price convergence.\n",
    "\n",
    "<div style=\"background-color: #FFF3CD; border-left: 6px solid #FFC107; padding: 15px; margin-bottom: 15px; border-radius: 5px;\">\n",
    "    <h4>The Arbitrage Strategy</h4>\n",
    "    <p>The core of this strategy is to compare the traded price of the ETF with a \"fair value\" that you calculate from its components.</p>\n",
    "    <ul>\n",
    "        <li><strong>Real ETF:</strong> The actual, traded price of the FAANG ETF from the dataset.</li>\n",
    "        <li><strong>Synthetic ETF:</strong> A \"fair value\" you calculate based on the average price movements of the 5 component stocks.</li>\n",
    "    </ul>\n",
    "    <p>The trading logic is based on which one is cheaper:</p>\n",
    "    <ul>\n",
    "        <li>If <strong>Real ETF > Synthetic ETF</strong> → Sell the expensive Real ETF and buy the cheap components.</li>\n",
    "        <li>If <strong>Real ETF < Synthetic ETF</strong> → Buy the cheap Real ETF and sell the expensive components.</li>\n",
    "    </ul>\n",
    "</div>\n",
    "\n",
    "### **Trading Tools: The `HedgeFund` Object**\n",
    "For this challenge, you will use a `HedgeFund` object (`hf`) to manage your account and execute trades.\n",
    "\n",
    "<div style=\"background-color: #F8F9F9; border: 1px solid #DEE2E6; padding: 15px; margin-bottom: 15px; border-radius: 5px;\">\n",
    "    <h4>The `hf` Class</h4>\n",
    "    <p>This is your main controller for executing trades. Its key properties and methods are:</p>\n",
    "    <ul>\n",
    "        <li><code>.balance</code>: Your current account balance in dollars.</li>\n",
    "        <li><code>.current_positions</code>: A dictionary containing <code>CurrentPosition</code> objects for each asset you hold.</li>\n",
    "        <li><code>.commission_percentage</code>: The commission fee for each trade.</li>\n",
    "    </ul>\n",
    "    <hr style=\"border-top: 1px solid #E9ECEF; margin: 10px 0;\">\n",
    "    <p><b>Method:</b> <code>hf.execute_order(ticker, volume, action, date)</code></p>\n",
    "    <p>This function sends a trade order to the market. It requires the ticker, volume, action ('BUY' or 'SELL'), and date.</p>\n",
    "</div>\n",
    "\n",
    "<div style=\"background-color: #F8F9F9; border: 1px solid #DEE2E6; padding: 15px; margin-bottom: 15px; border-radius: 5px;\">\n",
    "    <h4>The `CurrentPosition` Class</h4>\n",
    "    <p>This object, found within the main <code>hf</code> object, tracks and manages all details related to your position in a single asset.</p>\n",
    "    <hr style=\"border-top: 1px solid #E9ECEF; margin: 10px 0;\">\n",
    "    <p><strong>Key Properties:</strong></p>\n",
    "    <ul>\n",
    "        <li><code>ticker</code> (str): The symbol of the asset (e.g., 'AAPL').</li>\n",
    "        <li><code>direction</code> (str): Your current stance in the asset ('LONG', 'SHORT', or 'FLAT').</li>\n",
    "        <li><code>position_volume</code> (int): The number of shares you currently hold.</li>\n",
    "        <li><code>open_price</code> (float): The average price at which you entered your current position.</li>\n",
    "        <li><code>profit_loss</code> (float): The current unrealized profit or loss on the open position.</li>\n",
    "        <li><code>commission_costs</code> (float): The total commission fees paid for this asset's trades.</li>\n",
    "        <li><code>trade_history</code> (list): A complete log of every transaction for this asset.</li>\n",
    "    </ul>\n",
    "    <details>\n",
    "      <summary><strong>Click to see Trade History details</strong></summary>\n",
    "      <div style=\"background:#FFFFFF;padding:10px;border:1px solid #E9ECEF;border-radius:5px;margin-top:10px;\">\n",
    "      <p>The <code>trade_history</code> is a list of dictionaries, where each dictionary represents one trade and contains the following keys:</p>\n",
    "      <ul>\n",
    "          <li><code>action</code>: 'BUY' or 'SELL'.</li>\n",
    "          <li><code>trade_price</code>: The price of the individual transaction.</li>\n",
    "          <li><code>trade_volume</code>: The volume of the individual transaction.</li>\n",
    "          <li><code>realized_profit_loss</code>: The P&L closed out by this specific trade.</li>\n",
    "          <li><code>commission_costs</code>: The commission fee for this specific trade.</li>\n",
    "          <li><code>date</code>: The date of the transaction.</li>\n",
    "      </ul>\n",
    "      </div>\n",
    "    </details>\n",
    "</div>\n",
    "\n",
    "### **Challenge 4 - Task A: Build the Arbitrage Algorithm**\n",
    "Your primary task is to create a function that identifies and acts on arbitrage opportunities using the provided data and trading tools.\n",
    "\n",
    "<div style=\"background-color: #E7F3FE; border-left: 6px solid #2196F3; padding: 15px; margin-bottom: 15px; border-radius: 5px;\">\n",
    "<h4>Your Task</h4>\n",
    "<ol>\n",
    "    <li><strong>Prepare Your Data:</strong> Load the price data into a Pandas DataFrame. Calculate the value of the <strong>Synthetic ETF</strong> and the <strong>spread</strong> (difference) between the Real and Synthetic ETFs for each day.</li>\n",
    "    <li><strong>Develop a Trading Signal:</strong> Loop through your data day-by-day. Your algorithm must decide when the spread is large enough to be a profitable trading opportunity (i.e., it must be wider than the transaction costs).</li>\n",
    "    <li><strong>Execute the Arbitrage:</strong> When your signal is triggered, use the <code>hf.execute_order()</code> method to simultaneously place all 6 trades (1 for the ETF and 1 for each of the 5 stocks) in the correct directions.</li>\n",
    "    <li><strong>Manage the Position:</strong> You must also implement logic to close out your positions (by executing the opposite trades) once the spread has converged back to zero.</li>\n",
    "</ol>\n",
    "</div>"
   ]
  },
  {
   "cell_type": "code",
   "execution_count": null,
   "metadata": {
    "deletable": false,
    "editable": false,
    "nbgrader": {
     "cell_type": "code",
     "checksum": "6ab79bdd4a688f27b6b4a5bc886dc637",
     "grade": false,
     "grade_id": "cell-4478497f237a9f71",
     "locked": true,
     "schema_version": 3,
     "solution": false,
     "task": false
    },
    "pycharm": {
     "name": "#%%\n"
    }
   },
   "outputs": [],
   "source": [
    "# The code in this cell is used to import the packages to be used throughout this notebook.\n",
    "# The following are private packages available only during this simulation:\n",
    "from AmplifyQuantTrading import Data\n",
    "# The following are publicly available packages:\n",
    "from matplotlib import pyplot as plt\n",
    "import pandas\n",
    "# The code in this cell is used to import the packages to be used throughout this task.\n",
    "from AmplifyArbitrageTrading import HedgeFund\n",
    "# The code in this cell assigns the Data.get_price_series(\"PricestoFeedserverEtfUpdate\", True) to the prices variable.\n",
    "prices = Data.get_price_series(\"PricestoFeedserverEtfUpdate\", True)"
   ]
  },
  {
   "cell_type": "code",
   "execution_count": null,
   "metadata": {
    "deletable": false,
    "editable": false,
    "nbgrader": {
     "cell_type": "code",
     "checksum": "107d84b30adab9f0f8e9c348795aa74a",
     "grade": false,
     "grade_id": "cell-f8a60ced119bb65e",
     "locked": true,
     "schema_version": 3,
     "solution": false,
     "task": false
    },
    "pycharm": {
     "name": "#%%\n"
    }
   },
   "outputs": [],
   "source": [
    "# The code below creates the HedgeFund object\n",
    "hedge_fund = HedgeFund.hf(commission_percentage=0.001, data=prices)"
   ]
  },
  {
   "cell_type": "code",
   "execution_count": null,
   "metadata": {
    "deletable": false,
    "nbgrader": {
     "cell_type": "code",
     "checksum": "a725a715bf3845656c5b9469ac0356f8",
     "grade": false,
     "grade_id": "cell-14acb90cac6b0bfb",
     "locked": false,
     "schema_version": 3,
     "solution": true,
     "task": false
    }
   },
   "outputs": [],
   "source": [
    "# Insert your answer code here"
   ]
  },
  {
   "cell_type": "code",
   "execution_count": null,
   "metadata": {
    "deletable": false,
    "editable": false,
    "nbgrader": {
     "cell_type": "code",
     "checksum": "2136e58957e4a5070e65fae092ee53b1",
     "grade": false,
     "grade_id": "cell-f6502db8c73476c3",
     "locked": true,
     "schema_version": 3,
     "solution": false,
     "task": false
    },
    "pycharm": {
     "name": "#%%\n"
    }
   },
   "outputs": [],
   "source": [
    "pnl = 0\n",
    "for ticker in prices:\n",
    "    pnl += hedge_fund.current_positions[ticker].profit_loss - hedge_fund.current_positions[ticker].commission_costs\n",
    "    # If you wanted to print the Dataframes showing each trade.\n",
    "    # print(pandas.DataFrame.from_records(hedge_fund.current_positions[ticker].trade_history))\n",
    "\n",
    "print(\"Ending Balance: \", hedge_fund.balance)\n",
    "\n",
    "print(\"Total Profit or Loss (including commission):\", pnl)"
   ]
  },
  {
   "cell_type": "code",
   "execution_count": null,
   "metadata": {
    "deletable": false,
    "editable": false,
    "nbgrader": {
     "cell_type": "code",
     "checksum": "c31c754b31fecada91bdaf111c623fc5",
     "grade": true,
     "grade_id": "cell-aa9851ab4e868ff6",
     "locked": true,
     "points": 1,
     "schema_version": 3,
     "solution": false,
     "task": false
    }
   },
   "outputs": [],
   "source": [
    "# GRADING CELL"
   ]
  }
 ],
 "metadata": {
  "kernelspec": {
   "display_name": "base",
   "language": "python",
   "name": "python3"
  },
  "language_info": {
   "codemirror_mode": {
    "name": "ipython",
    "version": 3
   },
   "file_extension": ".py",
   "mimetype": "text/x-python",
   "name": "python",
   "nbconvert_exporter": "python",
   "pygments_lexer": "ipython3",
   "version": "3.13.5"
  }
 },
 "nbformat": 4,
 "nbformat_minor": 4
}
